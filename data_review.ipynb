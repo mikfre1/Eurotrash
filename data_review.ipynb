{
 "cells": [
  {
   "cell_type": "markdown",
   "metadata": {},
   "source": [
    "# Group Assignment 2: Data Preparation\n",
    "#### Interactive-Visual Data Analysis, Fall 2024\n",
    "\n",
    "# Group Eurotrash \n",
    "Max Zehnder (18-738-427), Marlon Gelpke (15-532-849), Mike Jason Frei (20-488-144), Hyeongseok Kim (23-741-903)\n",
    "\n",
    "https://github.com/mikfre1/Eurotrash.git\n",
    "\n",
    "## 1. Team Contributions:\n",
    "\n",
    "- Max: Creating of Webpage and Visualizations together with Marlon. \n",
    "- Marlon: Creating of Webpage and Visualizations together with Max. \n",
    "- Mike: Initial data preprocessing and data wrangling. Followed by refinement together with Hyeongseok. \n",
    "- Hyeongseok: Further improved the data preprocessing and wrangling. Followed by refinement together with Mike."
   ]
  },
  {
   "cell_type": "markdown",
   "metadata": {},
   "source": [
    "## 2. Visualization Tool's Task\n",
    "\n",
    "\n",
    "Please note that our tasks has been updated from our last report. We decided to focus more on deriving voting patterns.\n",
    "Initial 3 tasks are more related to users enjoyment on history and music.\n",
    "\n",
    "\n",
    "1) **Dominating Country**: The geographical mapping to explore the most enlisted countries encoded with color saturation. It is used to 'Analyze' contest to 'discover' majoring winning country by 'exploring' through the years. The user targets to discover outlying 'features'.\n",
    "2) **Word Cloud**: Highlighting topics based on occurrence in the lyrics. It is used to 'Analyze' contest to 'discover' majoring theme of songs, by 'exploring' through the years. The user targets to discover trends and outlying features.\n",
    "3) **Yearly ranking of Dominating countries**: The time series linear graph presenting the countries’ rankings by year. Is used to 'Query' through countries places over the years and 'look up' to 'Compare' between 2 competing countries.\n",
    "\n",
    "<br>\n",
    "Latter 2 tasks are more related to user goals to derive voting patterns.\n",
    "\n",
    "4)  **Countries in favor**: Heatmap to present the most relevant voters in favor of the topic for the view. It is used to 'discover' the voting pattern of countries by 'exploring' over the years, targeting to find trends in voting pattern.\n",
    "5)  **Clustering of Countries based on Voting**: It is to 'derive' the voting pattern based on current data. Trying to find 'correlation' in voting countries.\n"
   ]
  },
  {
   "cell_type": "markdown",
   "metadata": {},
   "source": [
    "## 3. Characterization of Data\n",
    "The code used for the preprocessing and wrangling can be found in the appendix."
   ]
  },
  {
   "cell_type": "code",
   "execution_count": 14,
   "metadata": {
    "ExecuteTime": {
     "end_time": "2024-11-21T16:50:44.725943Z",
     "start_time": "2024-11-21T16:50:43.308109Z"
    }
   },
   "outputs": [],
   "source": [
    "# Imports\n",
    "import pandas as pd\n",
    "import numpy as np\n",
    "import matplotlib.pyplot as plt\n",
    "import plotly.graph_objects as go\n",
    "import missingno as msno"
   ]
  },
  {
   "cell_type": "code",
   "execution_count": 2,
   "metadata": {},
   "outputs": [],
   "source": [
    "#Load Data\n",
    "contestant_df = pd.read_csv('dataset/contestants.csv')\n",
    "vote_df = pd.read_csv('dataset/votes.csv')"
   ]
  },
  {
   "cell_type": "code",
   "execution_count": 3,
   "metadata": {},
   "outputs": [
    {
     "data": {
      "text/html": [
       "<div>\n",
       "<style scoped>\n",
       "    .dataframe tbody tr th:only-of-type {\n",
       "        vertical-align: middle;\n",
       "    }\n",
       "\n",
       "    .dataframe tbody tr th {\n",
       "        vertical-align: top;\n",
       "    }\n",
       "\n",
       "    .dataframe thead th {\n",
       "        text-align: right;\n",
       "    }\n",
       "</style>\n",
       "<table border=\"1\" class=\"dataframe\">\n",
       "  <thead>\n",
       "    <tr style=\"text-align: right;\">\n",
       "      <th></th>\n",
       "      <th>year</th>\n",
       "      <th>to_country_id</th>\n",
       "      <th>to_country</th>\n",
       "      <th>performer</th>\n",
       "      <th>song</th>\n",
       "      <th>place_contest</th>\n",
       "      <th>sf_num</th>\n",
       "      <th>running_final</th>\n",
       "      <th>running_sf</th>\n",
       "      <th>place_final</th>\n",
       "      <th>...</th>\n",
       "      <th>place_sf</th>\n",
       "      <th>points_sf</th>\n",
       "      <th>points_tele_final</th>\n",
       "      <th>points_jury_final</th>\n",
       "      <th>points_tele_sf</th>\n",
       "      <th>points_jury_sf</th>\n",
       "      <th>composers</th>\n",
       "      <th>lyricists</th>\n",
       "      <th>lyrics</th>\n",
       "      <th>youtube_url</th>\n",
       "    </tr>\n",
       "  </thead>\n",
       "  <tbody>\n",
       "    <tr>\n",
       "      <th>0</th>\n",
       "      <td>1956</td>\n",
       "      <td>ch</td>\n",
       "      <td>Switzerland</td>\n",
       "      <td>Lys Assia</td>\n",
       "      <td>Refrain</td>\n",
       "      <td>2.0</td>\n",
       "      <td>NaN</td>\n",
       "      <td>2.0</td>\n",
       "      <td>NaN</td>\n",
       "      <td>2.0</td>\n",
       "      <td>...</td>\n",
       "      <td>NaN</td>\n",
       "      <td>NaN</td>\n",
       "      <td>NaN</td>\n",
       "      <td>NaN</td>\n",
       "      <td>NaN</td>\n",
       "      <td>NaN</td>\n",
       "      <td>Georg Benz Stahl</td>\n",
       "      <td>NaN</td>\n",
       "      <td>(Refrain d'amour...)\\n\\nRefrain, couleur du ci...</td>\n",
       "      <td>https://youtube.com/watch?v=IyqIPvOkiRk</td>\n",
       "    </tr>\n",
       "    <tr>\n",
       "      <th>1</th>\n",
       "      <td>1956</td>\n",
       "      <td>nl</td>\n",
       "      <td>Netherlands</td>\n",
       "      <td>Jetty Paerl</td>\n",
       "      <td>De Vogels Van Holland</td>\n",
       "      <td>2.0</td>\n",
       "      <td>NaN</td>\n",
       "      <td>1.0</td>\n",
       "      <td>NaN</td>\n",
       "      <td>2.0</td>\n",
       "      <td>...</td>\n",
       "      <td>NaN</td>\n",
       "      <td>NaN</td>\n",
       "      <td>NaN</td>\n",
       "      <td>NaN</td>\n",
       "      <td>NaN</td>\n",
       "      <td>NaN</td>\n",
       "      <td>Cor Lemaire</td>\n",
       "      <td>Annie M. G. Schmidt</td>\n",
       "      <td>De vogels van Holland zijn zo muzikaal\\nZe ler...</td>\n",
       "      <td>https://youtube.com/watch?v=u45UQVGRVPA</td>\n",
       "    </tr>\n",
       "    <tr>\n",
       "      <th>2</th>\n",
       "      <td>1956</td>\n",
       "      <td>be</td>\n",
       "      <td>Belgium</td>\n",
       "      <td>Fud Leclerc</td>\n",
       "      <td>Messieurs Les Noyés De La Seine</td>\n",
       "      <td>2.0</td>\n",
       "      <td>NaN</td>\n",
       "      <td>3.0</td>\n",
       "      <td>NaN</td>\n",
       "      <td>2.0</td>\n",
       "      <td>...</td>\n",
       "      <td>NaN</td>\n",
       "      <td>NaN</td>\n",
       "      <td>NaN</td>\n",
       "      <td>NaN</td>\n",
       "      <td>NaN</td>\n",
       "      <td>NaN</td>\n",
       "      <td>Jacques Say;Jean Miret</td>\n",
       "      <td>Robert Montal</td>\n",
       "      <td>Messieurs les noyés de la Seine\\nOuvrez-moi le...</td>\n",
       "      <td>https://youtube.com/watch?v=U9O3sqlyra0</td>\n",
       "    </tr>\n",
       "    <tr>\n",
       "      <th>3</th>\n",
       "      <td>1956</td>\n",
       "      <td>de</td>\n",
       "      <td>Germany</td>\n",
       "      <td>Walter Andreas Schwarz</td>\n",
       "      <td>Im Wartesaal Zum Großen Glück</td>\n",
       "      <td>2.0</td>\n",
       "      <td>NaN</td>\n",
       "      <td>4.0</td>\n",
       "      <td>NaN</td>\n",
       "      <td>2.0</td>\n",
       "      <td>...</td>\n",
       "      <td>NaN</td>\n",
       "      <td>NaN</td>\n",
       "      <td>NaN</td>\n",
       "      <td>NaN</td>\n",
       "      <td>NaN</td>\n",
       "      <td>NaN</td>\n",
       "      <td>Walter Andreas Schwarz</td>\n",
       "      <td>NaN</td>\n",
       "      <td>Es gibt einen Hafen, da fährt kaum ein Schiff\\...</td>\n",
       "      <td>https://youtube.com/watch?v=BDNARIDnmTc</td>\n",
       "    </tr>\n",
       "    <tr>\n",
       "      <th>4</th>\n",
       "      <td>1956</td>\n",
       "      <td>fr</td>\n",
       "      <td>France</td>\n",
       "      <td>Mathé Altéry</td>\n",
       "      <td>Le Temps Perdu</td>\n",
       "      <td>2.0</td>\n",
       "      <td>NaN</td>\n",
       "      <td>5.0</td>\n",
       "      <td>NaN</td>\n",
       "      <td>2.0</td>\n",
       "      <td>...</td>\n",
       "      <td>NaN</td>\n",
       "      <td>NaN</td>\n",
       "      <td>NaN</td>\n",
       "      <td>NaN</td>\n",
       "      <td>NaN</td>\n",
       "      <td>NaN</td>\n",
       "      <td>André Lodge</td>\n",
       "      <td>Rachèle Thoreau</td>\n",
       "      <td>Chante, carillon\\nLe chant du temps perdu\\nCha...</td>\n",
       "      <td>https://youtube.com/watch?v=dm1L0XyikKI</td>\n",
       "    </tr>\n",
       "  </tbody>\n",
       "</table>\n",
       "<p>5 rows × 21 columns</p>\n",
       "</div>"
      ],
      "text/plain": [
       "   year to_country_id   to_country               performer  \\\n",
       "0  1956            ch  Switzerland               Lys Assia   \n",
       "1  1956            nl  Netherlands             Jetty Paerl   \n",
       "2  1956            be      Belgium             Fud Leclerc   \n",
       "3  1956            de      Germany  Walter Andreas Schwarz   \n",
       "4  1956            fr       France            Mathé Altéry   \n",
       "\n",
       "                              song  place_contest  sf_num  running_final  \\\n",
       "0                          Refrain            2.0     NaN            2.0   \n",
       "1            De Vogels Van Holland            2.0     NaN            1.0   \n",
       "2  Messieurs Les Noyés De La Seine            2.0     NaN            3.0   \n",
       "3    Im Wartesaal Zum Großen Glück            2.0     NaN            4.0   \n",
       "4                   Le Temps Perdu            2.0     NaN            5.0   \n",
       "\n",
       "   running_sf  place_final  ...  place_sf  points_sf  points_tele_final  \\\n",
       "0         NaN          2.0  ...       NaN        NaN                NaN   \n",
       "1         NaN          2.0  ...       NaN        NaN                NaN   \n",
       "2         NaN          2.0  ...       NaN        NaN                NaN   \n",
       "3         NaN          2.0  ...       NaN        NaN                NaN   \n",
       "4         NaN          2.0  ...       NaN        NaN                NaN   \n",
       "\n",
       "   points_jury_final  points_tele_sf  points_jury_sf               composers  \\\n",
       "0                NaN             NaN             NaN        Georg Benz Stahl   \n",
       "1                NaN             NaN             NaN             Cor Lemaire   \n",
       "2                NaN             NaN             NaN  Jacques Say;Jean Miret   \n",
       "3                NaN             NaN             NaN  Walter Andreas Schwarz   \n",
       "4                NaN             NaN             NaN             André Lodge   \n",
       "\n",
       "             lyricists                                             lyrics  \\\n",
       "0                  NaN  (Refrain d'amour...)\\n\\nRefrain, couleur du ci...   \n",
       "1  Annie M. G. Schmidt  De vogels van Holland zijn zo muzikaal\\nZe ler...   \n",
       "2        Robert Montal  Messieurs les noyés de la Seine\\nOuvrez-moi le...   \n",
       "3                  NaN  Es gibt einen Hafen, da fährt kaum ein Schiff\\...   \n",
       "4      Rachèle Thoreau  Chante, carillon\\nLe chant du temps perdu\\nCha...   \n",
       "\n",
       "                               youtube_url  \n",
       "0  https://youtube.com/watch?v=IyqIPvOkiRk  \n",
       "1  https://youtube.com/watch?v=u45UQVGRVPA  \n",
       "2  https://youtube.com/watch?v=U9O3sqlyra0  \n",
       "3  https://youtube.com/watch?v=BDNARIDnmTc  \n",
       "4  https://youtube.com/watch?v=dm1L0XyikKI  \n",
       "\n",
       "[5 rows x 21 columns]"
      ]
     },
     "execution_count": 3,
     "metadata": {},
     "output_type": "execute_result"
    }
   ],
   "source": [
    "contestant_df.head()"
   ]
  },
  {
   "cell_type": "code",
   "execution_count": 4,
   "metadata": {},
   "outputs": [
    {
     "data": {
      "text/html": [
       "<div>\n",
       "<style scoped>\n",
       "    .dataframe tbody tr th:only-of-type {\n",
       "        vertical-align: middle;\n",
       "    }\n",
       "\n",
       "    .dataframe tbody tr th {\n",
       "        vertical-align: top;\n",
       "    }\n",
       "\n",
       "    .dataframe thead th {\n",
       "        text-align: right;\n",
       "    }\n",
       "</style>\n",
       "<table border=\"1\" class=\"dataframe\">\n",
       "  <thead>\n",
       "    <tr style=\"text-align: right;\">\n",
       "      <th></th>\n",
       "      <th>year</th>\n",
       "      <th>round</th>\n",
       "      <th>from_country_id</th>\n",
       "      <th>to_country_id</th>\n",
       "      <th>from_country</th>\n",
       "      <th>to_country</th>\n",
       "      <th>total_points</th>\n",
       "      <th>tele_points</th>\n",
       "      <th>jury_points</th>\n",
       "    </tr>\n",
       "  </thead>\n",
       "  <tbody>\n",
       "    <tr>\n",
       "      <th>0</th>\n",
       "      <td>1957</td>\n",
       "      <td>final</td>\n",
       "      <td>at</td>\n",
       "      <td>nl</td>\n",
       "      <td>at</td>\n",
       "      <td>nl</td>\n",
       "      <td>6</td>\n",
       "      <td>NaN</td>\n",
       "      <td>NaN</td>\n",
       "    </tr>\n",
       "    <tr>\n",
       "      <th>1</th>\n",
       "      <td>1957</td>\n",
       "      <td>final</td>\n",
       "      <td>at</td>\n",
       "      <td>fr</td>\n",
       "      <td>at</td>\n",
       "      <td>fr</td>\n",
       "      <td>0</td>\n",
       "      <td>NaN</td>\n",
       "      <td>NaN</td>\n",
       "    </tr>\n",
       "    <tr>\n",
       "      <th>2</th>\n",
       "      <td>1957</td>\n",
       "      <td>final</td>\n",
       "      <td>at</td>\n",
       "      <td>dk</td>\n",
       "      <td>at</td>\n",
       "      <td>dk</td>\n",
       "      <td>0</td>\n",
       "      <td>NaN</td>\n",
       "      <td>NaN</td>\n",
       "    </tr>\n",
       "    <tr>\n",
       "      <th>3</th>\n",
       "      <td>1957</td>\n",
       "      <td>final</td>\n",
       "      <td>at</td>\n",
       "      <td>lu</td>\n",
       "      <td>at</td>\n",
       "      <td>lu</td>\n",
       "      <td>3</td>\n",
       "      <td>NaN</td>\n",
       "      <td>NaN</td>\n",
       "    </tr>\n",
       "    <tr>\n",
       "      <th>4</th>\n",
       "      <td>1957</td>\n",
       "      <td>final</td>\n",
       "      <td>at</td>\n",
       "      <td>de</td>\n",
       "      <td>at</td>\n",
       "      <td>de</td>\n",
       "      <td>0</td>\n",
       "      <td>NaN</td>\n",
       "      <td>NaN</td>\n",
       "    </tr>\n",
       "  </tbody>\n",
       "</table>\n",
       "</div>"
      ],
      "text/plain": [
       "   year  round from_country_id to_country_id from_country to_country  \\\n",
       "0  1957  final              at            nl           at         nl   \n",
       "1  1957  final              at            fr           at         fr   \n",
       "2  1957  final              at            dk           at         dk   \n",
       "3  1957  final              at            lu           at         lu   \n",
       "4  1957  final              at            de           at         de   \n",
       "\n",
       "   total_points  tele_points  jury_points  \n",
       "0             6          NaN          NaN  \n",
       "1             0          NaN          NaN  \n",
       "2             0          NaN          NaN  \n",
       "3             3          NaN          NaN  \n",
       "4             0          NaN          NaN  "
      ]
     },
     "execution_count": 4,
     "metadata": {},
     "output_type": "execute_result"
    }
   ],
   "source": [
    "vote_df.head()"
   ]
  },
  {
   "cell_type": "markdown",
   "metadata": {},
   "source": [
    "### 3-1. Feature's Data Type and Distributions of Values\n",
    "The initial data in **Eurovision Song Contest** contains 2 data set, 'contestants.csv' and 'votes.csv'.<br><br>\n",
    "#### a) Contestants.csv <br>\n",
    "Information on Contestants dataset can be found below. Data types are consisted of integers, floats and strings. Some columns values are heavily distributed and we can suspect they contain some outliers or wrong values. (e.g. Diffrence between mean and amx value, such as `points_final`(75, 758) and `points_sf`(95, 403))"
   ]
  },
  {
   "cell_type": "code",
   "execution_count": 5,
   "metadata": {},
   "outputs": [
    {
     "name": "stdout",
     "output_type": "stream",
     "text": [
      "<class 'pandas.core.frame.DataFrame'>\n",
      "RangeIndex: 1734 entries, 0 to 1733\n",
      "Data columns (total 21 columns):\n",
      " #   Column             Non-Null Count  Dtype  \n",
      "---  ------             --------------  -----  \n",
      " 0   year               1734 non-null   int64  \n",
      " 1   to_country_id      1734 non-null   object \n",
      " 2   to_country         1734 non-null   object \n",
      " 3   performer          1734 non-null   object \n",
      " 4   song               1731 non-null   object \n",
      " 5   place_contest      1678 non-null   float64\n",
      " 6   sf_num             640 non-null    float64\n",
      " 7   running_final      1398 non-null   float64\n",
      " 8   running_sf         605 non-null    float64\n",
      " 9   place_final        1397 non-null   float64\n",
      " 10  points_final       1385 non-null   float64\n",
      " 11  place_sf           605 non-null    float64\n",
      " 12  points_sf          605 non-null    float64\n",
      " 13  points_tele_final  181 non-null    float64\n",
      " 14  points_jury_final  181 non-null    float64\n",
      " 15  points_tele_sf     212 non-null    float64\n",
      " 16  points_jury_sf     212 non-null    float64\n",
      " 17  composers          1680 non-null   object \n",
      " 18  lyricists          985 non-null    object \n",
      " 19  lyrics             1722 non-null   object \n",
      " 20  youtube_url        1722 non-null   object \n",
      "dtypes: float64(12), int64(1), object(8)\n",
      "memory usage: 284.6+ KB\n",
      "None\n"
     ]
    }
   ],
   "source": [
    "print(contestant_df.info())"
   ]
  },
  {
   "cell_type": "code",
   "execution_count": 6,
   "metadata": {},
   "outputs": [
    {
     "name": "stdout",
     "output_type": "stream",
     "text": [
      "              year  place_contest      sf_num  running_final  running_sf  \\\n",
      "count  1734.000000    1678.000000  640.000000    1398.000000  605.000000   \n",
      "mean   1997.103806      14.968415    1.262500      11.425608    9.859504   \n",
      "std      18.935907      10.470999    0.707549       6.718587    5.669580   \n",
      "min    1956.000000       1.000000    0.000000       1.000000    1.000000   \n",
      "25%    1982.000000       7.000000    1.000000       6.000000    5.000000   \n",
      "50%    2002.000000      13.000000    1.000000      11.000000   10.000000   \n",
      "75%    2013.000000      21.000000    2.000000      17.000000   14.000000   \n",
      "max    2023.000000      43.000000    2.000000      27.000000   28.000000   \n",
      "\n",
      "       place_final  points_final    place_sf   points_sf  points_tele_final  \\\n",
      "count  1397.000000   1385.000000  605.000000  605.000000         181.000000   \n",
      "mean     11.262706     75.041155    9.852893   95.004959          91.325967   \n",
      "std       6.739982     86.779039    5.661229   73.292585          95.126517   \n",
      "min       1.000000      0.000000    1.000000    0.000000           0.000000   \n",
      "25%       5.000000     16.000000    5.000000   41.000000          21.000000   \n",
      "50%      11.000000     51.000000   10.000000   74.000000          55.000000   \n",
      "75%      16.000000    100.000000   14.000000  133.000000         134.000000   \n",
      "max      27.000000    758.000000   28.000000  403.000000         439.000000   \n",
      "\n",
      "       points_jury_final  points_tele_sf  points_jury_sf  \n",
      "count         181.000000      212.000000      212.000000  \n",
      "mean           91.005525       67.575472       67.575472  \n",
      "std            77.557255       50.563263       47.545328  \n",
      "min             0.000000        0.000000        0.000000  \n",
      "25%            35.000000       24.750000       26.750000  \n",
      "50%            69.000000       53.000000       58.000000  \n",
      "75%           129.000000      104.000000       98.250000  \n",
      "max           382.000000      204.000000      222.000000  \n"
     ]
    }
   ],
   "source": [
    "print(contestant_df.describe())"
   ]
  },
  {
   "cell_type": "markdown",
   "metadata": {},
   "source": [
    "#### b) votes.csv <br>\n",
    "Below are information on votes dataset.<br>\n",
    "Data types of votes dataset are consisted of integers, floats and strings. Some columns values are also heavily distributed, showing signs of outliers or wrong values. (e.g. Diffrence between mean and amx value, such as `total_points`(3, 24), `tele_points`(3, 12), and `jury_points`(3, 12))"
   ]
  },
  {
   "cell_type": "code",
   "execution_count": 7,
   "metadata": {},
   "outputs": [
    {
     "name": "stdout",
     "output_type": "stream",
     "text": [
      "<class 'pandas.core.frame.DataFrame'>\n",
      "RangeIndex: 51354 entries, 0 to 51353\n",
      "Data columns (total 9 columns):\n",
      " #   Column           Non-Null Count  Dtype  \n",
      "---  ------           --------------  -----  \n",
      " 0   year             51354 non-null  int64  \n",
      " 1   round            51354 non-null  object \n",
      " 2   from_country_id  51354 non-null  object \n",
      " 3   to_country_id    51354 non-null  object \n",
      " 4   from_country     51354 non-null  object \n",
      " 5   to_country       51354 non-null  object \n",
      " 6   total_points     51354 non-null  int64  \n",
      " 7   tele_points      11741 non-null  float64\n",
      " 8   jury_points      11715 non-null  float64\n",
      "dtypes: float64(2), int64(2), object(5)\n",
      "memory usage: 3.5+ MB\n",
      "None\n"
     ]
    }
   ],
   "source": [
    "print(vote_df.info())"
   ]
  },
  {
   "cell_type": "code",
   "execution_count": 8,
   "metadata": {},
   "outputs": [
    {
     "name": "stdout",
     "output_type": "stream",
     "text": [
      "               year  total_points   tele_points   jury_points\n",
      "count  51354.000000  51354.000000  11741.000000  11715.000000\n",
      "mean    2002.974199      3.121626      2.628056      2.628937\n",
      "std       15.987289      4.401337      3.659772      3.660069\n",
      "min     1957.000000      0.000000      0.000000      0.000000\n",
      "25%     1994.000000      0.000000      0.000000      0.000000\n",
      "50%     2008.000000      0.000000      0.000000      0.000000\n",
      "75%     2015.000000      6.000000      5.000000      5.000000\n",
      "max     2023.000000     24.000000     12.000000     12.000000\n"
     ]
    }
   ],
   "source": [
    "print(vote_df.describe())"
   ]
  },
  {
   "cell_type": "markdown",
   "metadata": {},
   "source": [
    "### 3-2. Data Quality: Missing and Extreme Values, Consistency, and Validity\n",
    "#### a) Missing Values <br>\n",
    "The contestants dataset contains several missing values.<br>\n",
    "However, the missing values of the contestant and votes dataset shows clear pairing, for example `running_sf`, `place_sf`, and `points_sf` all have same number of data. We draw the line plot to find this pattern and irregular missing value. The patterns found with line plot are as follows.\n",
    "- Semifinals are implemented from year 2004, with large increase in participating songs\n",
    "- Tele-points and Jury-points are divided from year 2016\n",
    "To address these missing values, we need to fill in the missing values, and manipulate datas to our needs concerning the patterns we found.\n",
    "\n",
    "*[Occurrence of missing values for final points]*\n",
    "\n",
    "![Occurrence of missing values for final points](dataset/Hist_NaN_points_final.png)\n"
   ]
  },
  {
   "cell_type": "code",
   "execution_count": 9,
   "metadata": {},
   "outputs": [
    {
     "data": {
      "image/png": "[encoded data removed]",
      "text/plain": [
       "<Figure size 2500x1000 with 3 Axes>"
      ]
     },
     "metadata": {},
     "output_type": "display_data"
    },
    {
     "data": {
      "image/png": "[encoded data removed]",
      "text/plain": [
       "<Figure size 2500x1000 with 3 Axes>"
      ]
     },
     "metadata": {},
     "output_type": "display_data"
    }
   ],
   "source": [
    "# Visualize missing data with bar charts\n",
    "plt.figure(figsize=(5, 2))\n",
    "msno.bar(contestant_df, color='skyblue')\n",
    "plt.title(\"Missing Data by Column in Contestants Dataset\")\n",
    "plt.show()\n",
    "\n",
    "plt.figure(figsize=(5, 2))\n",
    "msno.bar(vote_df, color='lightcoral')\n",
    "plt.title(\"Missing Data by Column in Votes Dataset\")\n",
    "plt.show()"
   ]
  },
  {
   "cell_type": "code",
   "execution_count": 10,
   "metadata": {},
   "outputs": [
    {
     "data": {
      "application/vnd.plotly.v1+json": {
       "config": {
        "plotlyServerURL": "https://plot.ly"
       },
       "data": [
        {
         "mode": "lines+markers",
         "name": "song",
         "type": "scatter",
         "x": [
          1956,
          1957,
          1958,
          1959,
          1960,
          1961,
          1962,
          1963,
          1964,
          1965,
          1966,
          1967,
          1968,
          1969,
          1970,
          1971,
          1972,
          1973,
          1974,
          1975,
          1976,
          1977,
          1978,
          1979,
          1980,
          1981,
          1982,
          1983,
          1984,
          1985,
          1986,
          1987,
          1988,
          1989,
          1990,
          1991,
          1992,
          1993,
          1994,
          1995,
          1996,
          1997,
          1998,
          1999,
          2000,
          2001,
          2002,
          2003,
          2004,
          2005,
          2006,
          2007,
          2008,
          2009,
          2010,
          2011,
          2012,
          2013,
          2014,
          2015,
          2016,
          2017,
          2018,
          2019,
          2020,
          2021,
          2022,
          2023
         ],
         "y": [
          12,
          10,
          10,
          11,
          13,
          16,
          16,
          16,
          16,
          18,
          18,
          17,
          17,
          16,
          12,
          18,
          18,
          17,
          17,
          19,
          18,
          18,
          20,
          18,
          19,
          20,
          18,
          20,
          19,
          19,
          20,
          22,
          21,
          22,
          22,
          22,
          23,
          25,
          25,
          22,
          23,
          25,
          25,
          23,
          24,
          23,
          24,
          26,
          36,
          39,
          37,
          42,
          43,
          41,
          39,
          43,
          42,
          39,
          37,
          40,
          42,
          42,
          43,
          41,
          41,
          39,
          40,
          52
         ]
        },
        {
         "mode": "lines+markers",
         "name": "place_final",
         "type": "scatter",
         "x": [
          1956,
          1957,
          1958,
          1959,
          1960,
          1961,
          1962,
          1963,
          1964,
          1965,
          1966,
          1967,
          1968,
          1969,
          1970,
          1971,
          1972,
          1973,
          1974,
          1975,
          1976,
          1977,
          1978,
          1979,
          1980,
          1981,
          1982,
          1983,
          1984,
          1985,
          1986,
          1987,
          1988,
          1989,
          1990,
          1991,
          1992,
          1993,
          1994,
          1995,
          1996,
          1997,
          1998,
          1999,
          2000,
          2001,
          2002,
          2003,
          2004,
          2005,
          2006,
          2007,
          2008,
          2009,
          2010,
          2011,
          2012,
          2013,
          2014,
          2015,
          2016,
          2017,
          2018,
          2019,
          2020,
          2021,
          2022,
          2023
         ],
         "y": [
          12,
          10,
          10,
          11,
          13,
          16,
          16,
          16,
          16,
          18,
          18,
          17,
          17,
          16,
          12,
          18,
          18,
          17,
          17,
          19,
          18,
          18,
          20,
          19,
          19,
          20,
          18,
          20,
          19,
          19,
          20,
          22,
          21,
          22,
          22,
          22,
          23,
          25,
          25,
          23,
          23,
          25,
          25,
          23,
          24,
          23,
          24,
          26,
          24,
          24,
          24,
          24,
          25,
          25,
          25,
          25,
          26,
          26,
          26,
          27,
          26,
          26,
          26,
          26,
          null,
          26,
          25,
          26
         ]
        },
        {
         "mode": "lines+markers",
         "name": "points_sf",
         "type": "scatter",
         "x": [
          1956,
          1957,
          1958,
          1959,
          1960,
          1961,
          1962,
          1963,
          1964,
          1965,
          1966,
          1967,
          1968,
          1969,
          1970,
          1971,
          1972,
          1973,
          1974,
          1975,
          1976,
          1977,
          1978,
          1979,
          1980,
          1981,
          1982,
          1983,
          1984,
          1985,
          1986,
          1987,
          1988,
          1989,
          1990,
          1991,
          1992,
          1993,
          1994,
          1995,
          1996,
          1997,
          1998,
          1999,
          2000,
          2001,
          2002,
          2003,
          2004,
          2005,
          2006,
          2007,
          2008,
          2009,
          2010,
          2011,
          2012,
          2013,
          2014,
          2015,
          2016,
          2017,
          2018,
          2019,
          2020,
          2021,
          2022,
          2023
         ],
         "y": [
          null,
          null,
          null,
          null,
          null,
          null,
          null,
          null,
          null,
          null,
          null,
          null,
          null,
          null,
          null,
          null,
          null,
          null,
          null,
          null,
          null,
          null,
          null,
          null,
          null,
          null,
          null,
          null,
          null,
          null,
          null,
          null,
          null,
          null,
          null,
          null,
          null,
          null,
          null,
          null,
          null,
          null,
          null,
          null,
          null,
          null,
          null,
          null,
          22,
          25,
          23,
          28,
          38,
          37,
          34,
          38,
          36,
          33,
          31,
          33,
          36,
          36,
          37,
          35,
          null,
          33,
          35,
          15
         ]
        },
        {
         "mode": "lines+markers",
         "name": "points_tele_final",
         "type": "scatter",
         "x": [
          1956,
          1957,
          1958,
          1959,
          1960,
          1961,
          1962,
          1963,
          1964,
          1965,
          1966,
          1967,
          1968,
          1969,
          1970,
          1971,
          1972,
          1973,
          1974,
          1975,
          1976,
          1977,
          1978,
          1979,
          1980,
          1981,
          1982,
          1983,
          1984,
          1985,
          1986,
          1987,
          1988,
          1989,
          1990,
          1991,
          1992,
          1993,
          1994,
          1995,
          1996,
          1997,
          1998,
          1999,
          2000,
          2001,
          2002,
          2003,
          2004,
          2005,
          2006,
          2007,
          2008,
          2009,
          2010,
          2011,
          2012,
          2013,
          2014,
          2015,
          2016,
          2017,
          2018,
          2019,
          2020,
          2021,
          2022,
          2023
         ],
         "y": [
          null,
          null,
          null,
          null,
          null,
          null,
          null,
          null,
          null,
          null,
          null,
          null,
          null,
          null,
          null,
          null,
          null,
          null,
          null,
          null,
          null,
          null,
          null,
          null,
          null,
          null,
          null,
          null,
          null,
          null,
          null,
          null,
          null,
          null,
          null,
          null,
          null,
          null,
          null,
          null,
          null,
          null,
          null,
          null,
          null,
          null,
          null,
          null,
          null,
          null,
          null,
          null,
          null,
          null,
          null,
          null,
          null,
          null,
          null,
          null,
          26,
          26,
          26,
          26,
          null,
          26,
          25,
          26
         ]
        },
        {
         "mode": "lines+markers",
         "name": "points_tele_sf",
         "type": "scatter",
         "x": [
          1956,
          1957,
          1958,
          1959,
          1960,
          1961,
          1962,
          1963,
          1964,
          1965,
          1966,
          1967,
          1968,
          1969,
          1970,
          1971,
          1972,
          1973,
          1974,
          1975,
          1976,
          1977,
          1978,
          1979,
          1980,
          1981,
          1982,
          1983,
          1984,
          1985,
          1986,
          1987,
          1988,
          1989,
          1990,
          1991,
          1992,
          1993,
          1994,
          1995,
          1996,
          1997,
          1998,
          1999,
          2000,
          2001,
          2002,
          2003,
          2004,
          2005,
          2006,
          2007,
          2008,
          2009,
          2010,
          2011,
          2012,
          2013,
          2014,
          2015,
          2016,
          2017,
          2018,
          2019,
          2020,
          2021,
          2022,
          2023
         ],
         "y": [
          null,
          null,
          null,
          null,
          null,
          null,
          null,
          null,
          null,
          null,
          null,
          null,
          null,
          null,
          null,
          null,
          null,
          null,
          null,
          null,
          null,
          null,
          null,
          null,
          null,
          null,
          null,
          null,
          null,
          null,
          null,
          null,
          null,
          null,
          null,
          null,
          null,
          null,
          null,
          null,
          null,
          null,
          null,
          null,
          null,
          null,
          null,
          null,
          null,
          null,
          null,
          null,
          null,
          null,
          null,
          null,
          null,
          null,
          null,
          null,
          36,
          36,
          37,
          35,
          null,
          33,
          35,
          null
         ]
        }
       ],
       "layout": {
        "hovermode": "x unified",
        "legend": {
         "title": {
          "text": "Products"
         }
        },
        "template": {
         "data": {
          "bar": [
           {
            "error_x": {
             "color": "#2a3f5f"
            },
            "error_y": {
             "color": "#2a3f5f"
            },
            "marker": {
             "line": {
              "color": "#E5ECF6",
              "width": 0.5
             },
             "pattern": {
              "fillmode": "overlay",
              "size": 10,
              "solidity": 0.2
             }
            },
            "type": "bar"
           }
          ],
          "barpolar": [
           {
            "marker": {
             "line": {
              "color": "#E5ECF6",
              "width": 0.5
             },
             "pattern": {
              "fillmode": "overlay",
              "size": 10,
              "solidity": 0.2
             }
            },
            "type": "barpolar"
           }
          ],
          "carpet": [
           {
            "aaxis": {
             "endlinecolor": "#2a3f5f",
             "gridcolor": "white",
             "linecolor": "white",
             "minorgridcolor": "white",
             "startlinecolor": "#2a3f5f"
            },
            "baxis": {
             "endlinecolor": "#2a3f5f",
             "gridcolor": "white",
             "linecolor": "white",
             "minorgridcolor": "white",
             "startlinecolor": "#2a3f5f"
            },
            "type": "carpet"
           }
          ],
          "choropleth": [
           {
            "colorbar": {
             "outlinewidth": 0,
             "ticks": ""
            },
            "type": "choropleth"
           }
          ],
          "contour": [
           {
            "colorbar": {
             "outlinewidth": 0,
             "ticks": ""
            },
            "colorscale": [
             [
              0,
              "#0d0887"
             ],
             [
              0.1111111111111111,
              "#46039f"
             ],
             [
              0.2222222222222222,
              "#7201a8"
             ],
             [
              0.3333333333333333,
              "#9c179e"
             ],
             [
              0.4444444444444444,
              "#bd3786"
             ],
             [
              0.5555555555555556,
              "#d8576b"
             ],
             [
              0.6666666666666666,
              "#ed7953"
             ],
             [
              0.7777777777777778,
              "#fb9f3a"
             ],
             [
              0.8888888888888888,
              "#fdca26"
             ],
             [
              1,
              "#f0f921"
             ]
            ],
            "type": "contour"
           }
          ],
          "contourcarpet": [
           {
            "colorbar": {
             "outlinewidth": 0,
             "ticks": ""
            },
            "type": "contourcarpet"
           }
          ],
          "heatmap": [
           {
            "colorbar": {
             "outlinewidth": 0,
             "ticks": ""
            },
            "colorscale": [
             [
              0,
              "#0d0887"
             ],
             [
              0.1111111111111111,
              "#46039f"
             ],
             [
              0.2222222222222222,
              "#7201a8"
             ],
             [
              0.3333333333333333,
              "#9c179e"
             ],
             [
              0.4444444444444444,
              "#bd3786"
             ],
             [
              0.5555555555555556,
              "#d8576b"
             ],
             [
              0.6666666666666666,
              "#ed7953"
             ],
             [
              0.7777777777777778,
              "#fb9f3a"
             ],
             [
              0.8888888888888888,
              "#fdca26"
             ],
             [
              1,
              "#f0f921"
             ]
            ],
            "type": "heatmap"
           }
          ],
          "heatmapgl": [
           {
            "colorbar": {
             "outlinewidth": 0,
             "ticks": ""
            },
            "colorscale": [
             [
              0,
              "#0d0887"
             ],
             [
              0.1111111111111111,
              "#46039f"
             ],
             [
              0.2222222222222222,
              "#7201a8"
             ],
             [
              0.3333333333333333,
              "#9c179e"
             ],
             [
              0.4444444444444444,
              "#bd3786"
             ],
             [
              0.5555555555555556,
              "#d8576b"
             ],
             [
              0.6666666666666666,
              "#ed7953"
             ],
             [
              0.7777777777777778,
              "#fb9f3a"
             ],
             [
              0.8888888888888888,
              "#fdca26"
             ],
             [
              1,
              "#f0f921"
             ]
            ],
            "type": "heatmapgl"
           }
          ],
          "histogram": [
           {
            "marker": {
             "pattern": {
              "fillmode": "overlay",
              "size": 10,
              "solidity": 0.2
             }
            },
            "type": "histogram"
           }
          ],
          "histogram2d": [
           {
            "colorbar": {
             "outlinewidth": 0,
             "ticks": ""
            },
            "colorscale": [
             [
              0,
              "#0d0887"
             ],
             [
              0.1111111111111111,
              "#46039f"
             ],
             [
              0.2222222222222222,
              "#7201a8"
             ],
             [
              0.3333333333333333,
              "#9c179e"
             ],
             [
              0.4444444444444444,
              "#bd3786"
             ],
             [
              0.5555555555555556,
              "#d8576b"
             ],
             [
              0.6666666666666666,
              "#ed7953"
             ],
             [
              0.7777777777777778,
              "#fb9f3a"
             ],
             [
              0.8888888888888888,
              "#fdca26"
             ],
             [
              1,
              "#f0f921"
             ]
            ],
            "type": "histogram2d"
           }
          ],
          "histogram2dcontour": [
           {
            "colorbar": {
             "outlinewidth": 0,
             "ticks": ""
            },
            "colorscale": [
             [
              0,
              "#0d0887"
             ],
             [
              0.1111111111111111,
              "#46039f"
             ],
             [
              0.2222222222222222,
              "#7201a8"
             ],
             [
              0.3333333333333333,
              "#9c179e"
             ],
             [
              0.4444444444444444,
              "#bd3786"
             ],
             [
              0.5555555555555556,
              "#d8576b"
             ],
             [
              0.6666666666666666,
              "#ed7953"
             ],
             [
              0.7777777777777778,
              "#fb9f3a"
             ],
             [
              0.8888888888888888,
              "#fdca26"
             ],
             [
              1,
              "#f0f921"
             ]
            ],
            "type": "histogram2dcontour"
           }
          ],
          "mesh3d": [
           {
            "colorbar": {
             "outlinewidth": 0,
             "ticks": ""
            },
            "type": "mesh3d"
           }
          ],
          "parcoords": [
           {
            "line": {
             "colorbar": {
              "outlinewidth": 0,
              "ticks": ""
             }
            },
            "type": "parcoords"
           }
          ],
          "pie": [
           {
            "automargin": true,
            "type": "pie"
           }
          ],
          "scatter": [
           {
            "fillpattern": {
             "fillmode": "overlay",
             "size": 10,
             "solidity": 0.2
            },
            "type": "scatter"
           }
          ],
          "scatter3d": [
           {
            "line": {
             "colorbar": {
              "outlinewidth": 0,
              "ticks": ""
             }
            },
            "marker": {
             "colorbar": {
              "outlinewidth": 0,
              "ticks": ""
             }
            },
            "type": "scatter3d"
           }
          ],
          "scattercarpet": [
           {
            "marker": {
             "colorbar": {
              "outlinewidth": 0,
              "ticks": ""
             }
            },
            "type": "scattercarpet"
           }
          ],
          "scattergeo": [
           {
            "marker": {
             "colorbar": {
              "outlinewidth": 0,
              "ticks": ""
             }
            },
            "type": "scattergeo"
           }
          ],
          "scattergl": [
           {
            "marker": {
             "colorbar": {
              "outlinewidth": 0,
              "ticks": ""
             }
            },
            "type": "scattergl"
           }
          ],
          "scattermapbox": [
           {
            "marker": {
             "colorbar": {
              "outlinewidth": 0,
              "ticks": ""
             }
            },
            "type": "scattermapbox"
           }
          ],
          "scatterpolar": [
           {
            "marker": {
             "colorbar": {
              "outlinewidth": 0,
              "ticks": ""
             }
            },
            "type": "scatterpolar"
           }
          ],
          "scatterpolargl": [
           {
            "marker": {
             "colorbar": {
              "outlinewidth": 0,
              "ticks": ""
             }
            },
            "type": "scatterpolargl"
           }
          ],
          "scatterternary": [
           {
            "marker": {
             "colorbar": {
              "outlinewidth": 0,
              "ticks": ""
             }
            },
            "type": "scatterternary"
           }
          ],
          "surface": [
           {
            "colorbar": {
             "outlinewidth": 0,
             "ticks": ""
            },
            "colorscale": [
             [
              0,
              "#0d0887"
             ],
             [
              0.1111111111111111,
              "#46039f"
             ],
             [
              0.2222222222222222,
              "#7201a8"
             ],
             [
              0.3333333333333333,
              "#9c179e"
             ],
             [
              0.4444444444444444,
              "#bd3786"
             ],
             [
              0.5555555555555556,
              "#d8576b"
             ],
             [
              0.6666666666666666,
              "#ed7953"
             ],
             [
              0.7777777777777778,
              "#fb9f3a"
             ],
             [
              0.8888888888888888,
              "#fdca26"
             ],
             [
              1,
              "#f0f921"
             ]
            ],
            "type": "surface"
           }
          ],
          "table": [
           {
            "cells": {
             "fill": {
              "color": "#EBF0F8"
             },
             "line": {
              "color": "white"
             }
            },
            "header": {
             "fill": {
              "color": "#C8D4E3"
             },
             "line": {
              "color": "white"
             }
            },
            "type": "table"
           }
          ]
         },
         "layout": {
          "annotationdefaults": {
           "arrowcolor": "#2a3f5f",
           "arrowhead": 0,
           "arrowwidth": 1
          },
          "autotypenumbers": "strict",
          "coloraxis": {
           "colorbar": {
            "outlinewidth": 0,
            "ticks": ""
           }
          },
          "colorscale": {
           "diverging": [
            [
             0,
             "#8e0152"
            ],
            [
             0.1,
             "#c51b7d"
            ],
            [
             0.2,
             "#de77ae"
            ],
            [
             0.3,
             "#f1b6da"
            ],
            [
             0.4,
             "#fde0ef"
            ],
            [
             0.5,
             "#f7f7f7"
            ],
            [
             0.6,
             "#e6f5d0"
            ],
            [
             0.7,
             "#b8e186"
            ],
            [
             0.8,
             "#7fbc41"
            ],
            [
             0.9,
             "#4d9221"
            ],
            [
             1,
             "#276419"
            ]
           ],
           "sequential": [
            [
             0,
             "#0d0887"
            ],
            [
             0.1111111111111111,
             "#46039f"
            ],
            [
             0.2222222222222222,
             "#7201a8"
            ],
            [
             0.3333333333333333,
             "#9c179e"
            ],
            [
             0.4444444444444444,
             "#bd3786"
            ],
            [
             0.5555555555555556,
             "#d8576b"
            ],
            [
             0.6666666666666666,
             "#ed7953"
            ],
            [
             0.7777777777777778,
             "#fb9f3a"
            ],
            [
             0.8888888888888888,
             "#fdca26"
            ],
            [
             1,
             "#f0f921"
            ]
           ],
           "sequentialminus": [
            [
             0,
             "#0d0887"
            ],
            [
             0.1111111111111111,
             "#46039f"
            ],
            [
             0.2222222222222222,
             "#7201a8"
            ],
            [
             0.3333333333333333,
             "#9c179e"
            ],
            [
             0.4444444444444444,
             "#bd3786"
            ],
            [
             0.5555555555555556,
             "#d8576b"
            ],
            [
             0.6666666666666666,
             "#ed7953"
            ],
            [
             0.7777777777777778,
             "#fb9f3a"
            ],
            [
             0.8888888888888888,
             "#fdca26"
            ],
            [
             1,
             "#f0f921"
            ]
           ]
          },
          "colorway": [
           "#636efa",
           "#EF553B",
           "#00cc96",
           "#ab63fa",
           "#FFA15A",
           "#19d3f3",
           "#FF6692",
           "#B6E880",
           "#FF97FF",
           "#FECB52"
          ],
          "font": {
           "color": "#2a3f5f"
          },
          "geo": {
           "bgcolor": "white",
           "lakecolor": "white",
           "landcolor": "#E5ECF6",
           "showlakes": true,
           "showland": true,
           "subunitcolor": "white"
          },
          "hoverlabel": {
           "align": "left"
          },
          "hovermode": "closest",
          "mapbox": {
           "style": "light"
          },
          "paper_bgcolor": "white",
          "plot_bgcolor": "#E5ECF6",
          "polar": {
           "angularaxis": {
            "gridcolor": "white",
            "linecolor": "white",
            "ticks": ""
           },
           "bgcolor": "#E5ECF6",
           "radialaxis": {
            "gridcolor": "white",
            "linecolor": "white",
            "ticks": ""
           }
          },
          "scene": {
           "xaxis": {
            "backgroundcolor": "#E5ECF6",
            "gridcolor": "white",
            "gridwidth": 2,
            "linecolor": "white",
            "showbackground": true,
            "ticks": "",
            "zerolinecolor": "white"
           },
           "yaxis": {
            "backgroundcolor": "#E5ECF6",
            "gridcolor": "white",
            "gridwidth": 2,
            "linecolor": "white",
            "showbackground": true,
            "ticks": "",
            "zerolinecolor": "white"
           },
           "zaxis": {
            "backgroundcolor": "#E5ECF6",
            "gridcolor": "white",
            "gridwidth": 2,
            "linecolor": "white",
            "showbackground": true,
            "ticks": "",
            "zerolinecolor": "white"
           }
          },
          "shapedefaults": {
           "line": {
            "color": "#2a3f5f"
           }
          },
          "ternary": {
           "aaxis": {
            "gridcolor": "white",
            "linecolor": "white",
            "ticks": ""
           },
           "baxis": {
            "gridcolor": "white",
            "linecolor": "white",
            "ticks": ""
           },
           "bgcolor": "#E5ECF6",
           "caxis": {
            "gridcolor": "white",
            "linecolor": "white",
            "ticks": ""
           }
          },
          "title": {
           "x": 0.05
          },
          "xaxis": {
           "automargin": true,
           "gridcolor": "white",
           "linecolor": "white",
           "ticks": "",
           "title": {
            "standoff": 15
           },
           "zerolinecolor": "white",
           "zerolinewidth": 2
          },
          "yaxis": {
           "automargin": true,
           "gridcolor": "white",
           "linecolor": "white",
           "ticks": "",
           "title": {
            "standoff": 15
           },
           "zerolinecolor": "white",
           "zerolinewidth": 2
          }
         }
        },
        "title": {
         "text": "Features Count Over Years"
        },
        "xaxis": {
         "title": {
          "text": "Year"
         }
        },
        "yaxis": {
         "title": {
          "text": "Counts"
         }
        }
       }
      }
     },
     "metadata": {},
     "output_type": "display_data"
    }
   ],
   "source": [
    "fig = go.Figure()\n",
    "\n",
    "values_counts = contestant_df.groupby('year')[['song', 'sf_num', 'running_final', 'running_sf', 'place_final','points_final', 'place_sf', 'points_sf', 'points_tele_final', 'points_jury_final', 'points_tele_sf', 'points_jury_sf', 'lyrics']].count()\n",
    "values_counts = values_counts.replace(0, np.nan)\n",
    "\n",
    "# Add lines for each feature\n",
    "fig.add_trace(go.Scatter(x=values_counts.index, y=values_counts['song'], mode='lines+markers', name='song'))\n",
    "fig.add_trace(go.Scatter(x=values_counts.index, y=values_counts['place_final'], mode='lines+markers', name='place_final'))\n",
    "fig.add_trace(go.Scatter(x=values_counts.index, y=values_counts['points_sf'], mode='lines+markers', name='points_sf'))\n",
    "fig.add_trace(go.Scatter(x=values_counts.index, y=values_counts['points_tele_final'], mode='lines+markers', name='points_tele_final'))\n",
    "fig.add_trace(go.Scatter(x=values_counts.index, y=values_counts['points_tele_sf'], mode='lines+markers', name='points_tele_sf'))\n",
    "\n",
    "# Customize layout\n",
    "fig.update_layout(\n",
    "    title='Features Count Over Years',\n",
    "    xaxis_title='Year',\n",
    "    yaxis_title='Counts',\n",
    "    template='plotly',\n",
    "    legend_title='Products',\n",
    "    hovermode='x unified'\n",
    ")\n",
    "\n",
    "# Show the plot\n",
    "fig.show()"
   ]
  },
  {
   "cell_type": "markdown",
   "metadata": {},
   "source": [
    "#### b) Extreme Values and Outliers <br>\n",
    "The points shows drastic changes over the years, resulting in heavy distribution. This is majorly due to changes in voting system, shown in [Voting at the Eurovision Song Contest](https://en.wikipedia.org/wiki/Voting_at_the_Eurovision_Song_Contest).\n",
    "Spike in year 1971 is caused by changed voting system to distirbutes 10 points from 10 to 1 to favorites songs, from distribute 9 points juries got as a total. Doubled points in year 2016 is due to adopting telepoints.\n",
    "The fall in year 1974 is also from reverting voting system to distribute 10 points juries got as a total, from changes in 1971.<br>\n",
    "The *placesDistribution of Winners* over the years showed changes among the years. In the year 1956, no points nor place was publicated, all placed in 2nd. In year 1969, 4 countries are tied and got 1st place causing changes in voting system to prevent ties for winners. <br>\n",
    "To address these distributions, we need measures to normalize points and deal with tied places.\n",
    "\n",
    "*[The Distribution of Winners over the years]*\n",
    "\n",
    "\n",
    "![Distribution of Winners](dataset/Dist_winner.png)\n",
    "\n"
   ]
  },
  {
   "cell_type": "code",
   "execution_count": 11,
   "metadata": {},
   "outputs": [
    {
     "data": {
      "application/vnd.plotly.v1+json": {
       "config": {
        "plotlyServerURL": "https://plot.ly"
       },
       "data": [
        {
         "mode": "lines+markers",
         "name": "points_final",
         "type": "scatter",
         "x": [
          1956,
          1957,
          1958,
          1959,
          1960,
          1961,
          1962,
          1963,
          1964,
          1965,
          1966,
          1967,
          1968,
          1969,
          1970,
          1971,
          1972,
          1973,
          1974,
          1975,
          1976,
          1977,
          1978,
          1979,
          1980,
          1981,
          1982,
          1983,
          1984,
          1985,
          1986,
          1987,
          1988,
          1989,
          1990,
          1991,
          1992,
          1993,
          1994,
          1995,
          1996,
          1997,
          1998,
          1999,
          2000,
          2001,
          2002,
          2003,
          2004,
          2005,
          2006,
          2007,
          2008,
          2009,
          2010,
          2011,
          2012,
          2013,
          2014,
          2015,
          2016,
          2017,
          2018,
          2019,
          2020,
          2021,
          2022,
          2023
         ],
         "y": [
          null,
          100,
          100,
          110,
          130,
          160,
          96,
          240,
          144,
          162,
          162,
          170,
          170,
          160,
          120,
          1498,
          1542,
          1490,
          170,
          1102,
          1044,
          1044,
          1160,
          1102,
          1102,
          1160,
          1044,
          1160,
          1102,
          1102,
          1160,
          1276,
          1218,
          1276,
          1276,
          1276,
          1334,
          1450,
          1450,
          1334,
          1334,
          1450,
          1450,
          1334,
          1392,
          1334,
          1392,
          1508,
          2088,
          2262,
          2204,
          2436,
          2494,
          2436,
          2262,
          2494,
          2436,
          2262,
          2146,
          2320,
          4872,
          4872,
          4988,
          4756,
          null,
          4524,
          4640,
          4350
         ]
        },
        {
         "mode": "lines+markers",
         "name": "points_tele_final",
         "type": "scatter",
         "x": [
          1956,
          1957,
          1958,
          1959,
          1960,
          1961,
          1962,
          1963,
          1964,
          1965,
          1966,
          1967,
          1968,
          1969,
          1970,
          1971,
          1972,
          1973,
          1974,
          1975,
          1976,
          1977,
          1978,
          1979,
          1980,
          1981,
          1982,
          1983,
          1984,
          1985,
          1986,
          1987,
          1988,
          1989,
          1990,
          1991,
          1992,
          1993,
          1994,
          1995,
          1996,
          1997,
          1998,
          1999,
          2000,
          2001,
          2002,
          2003,
          2004,
          2005,
          2006,
          2007,
          2008,
          2009,
          2010,
          2011,
          2012,
          2013,
          2014,
          2015,
          2016,
          2017,
          2018,
          2019,
          2020,
          2021,
          2022,
          2023
         ],
         "y": [
          null,
          null,
          null,
          null,
          null,
          null,
          null,
          null,
          null,
          null,
          null,
          null,
          null,
          null,
          null,
          null,
          null,
          null,
          null,
          null,
          null,
          null,
          null,
          null,
          null,
          null,
          null,
          null,
          null,
          null,
          null,
          null,
          null,
          null,
          null,
          null,
          null,
          null,
          null,
          null,
          null,
          null,
          null,
          null,
          null,
          null,
          null,
          null,
          null,
          null,
          null,
          null,
          null,
          null,
          null,
          null,
          null,
          null,
          null,
          null,
          2436,
          2436,
          2494,
          2378,
          null,
          2262,
          2320,
          2204
         ]
        },
        {
         "mode": "lines+markers",
         "name": "points_jury_final",
         "type": "scatter",
         "x": [
          1956,
          1957,
          1958,
          1959,
          1960,
          1961,
          1962,
          1963,
          1964,
          1965,
          1966,
          1967,
          1968,
          1969,
          1970,
          1971,
          1972,
          1973,
          1974,
          1975,
          1976,
          1977,
          1978,
          1979,
          1980,
          1981,
          1982,
          1983,
          1984,
          1985,
          1986,
          1987,
          1988,
          1989,
          1990,
          1991,
          1992,
          1993,
          1994,
          1995,
          1996,
          1997,
          1998,
          1999,
          2000,
          2001,
          2002,
          2003,
          2004,
          2005,
          2006,
          2007,
          2008,
          2009,
          2010,
          2011,
          2012,
          2013,
          2014,
          2015,
          2016,
          2017,
          2018,
          2019,
          2020,
          2021,
          2022,
          2023
         ],
         "y": [
          null,
          null,
          null,
          null,
          null,
          null,
          null,
          null,
          null,
          null,
          null,
          null,
          null,
          null,
          null,
          null,
          null,
          null,
          null,
          null,
          null,
          null,
          null,
          null,
          null,
          null,
          null,
          null,
          null,
          null,
          null,
          null,
          null,
          null,
          null,
          null,
          null,
          null,
          null,
          null,
          null,
          null,
          null,
          null,
          null,
          null,
          null,
          null,
          null,
          null,
          null,
          null,
          null,
          null,
          null,
          null,
          null,
          null,
          null,
          null,
          2436,
          2436,
          2494,
          2378,
          null,
          2262,
          2320,
          2146
         ]
        }
       ],
       "layout": {
        "hovermode": "x unified",
        "legend": {
         "title": {
          "text": "Products"
         }
        },
        "template": {
         "data": {
          "bar": [
           {
            "error_x": {
             "color": "#2a3f5f"
            },
            "error_y": {
             "color": "#2a3f5f"
            },
            "marker": {
             "line": {
              "color": "#E5ECF6",
              "width": 0.5
             },
             "pattern": {
              "fillmode": "overlay",
              "size": 10,
              "solidity": 0.2
             }
            },
            "type": "bar"
           }
          ],
          "barpolar": [
           {
            "marker": {
             "line": {
              "color": "#E5ECF6",
              "width": 0.5
             },
             "pattern": {
              "fillmode": "overlay",
              "size": 10,
              "solidity": 0.2
             }
            },
            "type": "barpolar"
           }
          ],
          "carpet": [
           {
            "aaxis": {
             "endlinecolor": "#2a3f5f",
             "gridcolor": "white",
             "linecolor": "white",
             "minorgridcolor": "white",
             "startlinecolor": "#2a3f5f"
            },
            "baxis": {
             "endlinecolor": "#2a3f5f",
             "gridcolor": "white",
             "linecolor": "white",
             "minorgridcolor": "white",
             "startlinecolor": "#2a3f5f"
            },
            "type": "carpet"
           }
          ],
          "choropleth": [
           {
            "colorbar": {
             "outlinewidth": 0,
             "ticks": ""
            },
            "type": "choropleth"
           }
          ],
          "contour": [
           {
            "colorbar": {
             "outlinewidth": 0,
             "ticks": ""
            },
            "colorscale": [
             [
              0,
              "#0d0887"
             ],
             [
              0.1111111111111111,
              "#46039f"
             ],
             [
              0.2222222222222222,
              "#7201a8"
             ],
             [
              0.3333333333333333,
              "#9c179e"
             ],
             [
              0.4444444444444444,
              "#bd3786"
             ],
             [
              0.5555555555555556,
              "#d8576b"
             ],
             [
              0.6666666666666666,
              "#ed7953"
             ],
             [
              0.7777777777777778,
              "#fb9f3a"
             ],
             [
              0.8888888888888888,
              "#fdca26"
             ],
             [
              1,
              "#f0f921"
             ]
            ],
            "type": "contour"
           }
          ],
          "contourcarpet": [
           {
            "colorbar": {
             "outlinewidth": 0,
             "ticks": ""
            },
            "type": "contourcarpet"
           }
          ],
          "heatmap": [
           {
            "colorbar": {
             "outlinewidth": 0,
             "ticks": ""
            },
            "colorscale": [
             [
              0,
              "#0d0887"
             ],
             [
              0.1111111111111111,
              "#46039f"
             ],
             [
              0.2222222222222222,
              "#7201a8"
             ],
             [
              0.3333333333333333,
              "#9c179e"
             ],
             [
              0.4444444444444444,
              "#bd3786"
             ],
             [
              0.5555555555555556,
              "#d8576b"
             ],
             [
              0.6666666666666666,
              "#ed7953"
             ],
             [
              0.7777777777777778,
              "#fb9f3a"
             ],
             [
              0.8888888888888888,
              "#fdca26"
             ],
             [
              1,
              "#f0f921"
             ]
            ],
            "type": "heatmap"
           }
          ],
          "heatmapgl": [
           {
            "colorbar": {
             "outlinewidth": 0,
             "ticks": ""
            },
            "colorscale": [
             [
              0,
              "#0d0887"
             ],
             [
              0.1111111111111111,
              "#46039f"
             ],
             [
              0.2222222222222222,
              "#7201a8"
             ],
             [
              0.3333333333333333,
              "#9c179e"
             ],
             [
              0.4444444444444444,
              "#bd3786"
             ],
             [
              0.5555555555555556,
              "#d8576b"
             ],
             [
              0.6666666666666666,
              "#ed7953"
             ],
             [
              0.7777777777777778,
              "#fb9f3a"
             ],
             [
              0.8888888888888888,
              "#fdca26"
             ],
             [
              1,
              "#f0f921"
             ]
            ],
            "type": "heatmapgl"
           }
          ],
          "histogram": [
           {
            "marker": {
             "pattern": {
              "fillmode": "overlay",
              "size": 10,
              "solidity": 0.2
             }
            },
            "type": "histogram"
           }
          ],
          "histogram2d": [
           {
            "colorbar": {
             "outlinewidth": 0,
             "ticks": ""
            },
            "colorscale": [
             [
              0,
              "#0d0887"
             ],
             [
              0.1111111111111111,
              "#46039f"
             ],
             [
              0.2222222222222222,
              "#7201a8"
             ],
             [
              0.3333333333333333,
              "#9c179e"
             ],
             [
              0.4444444444444444,
              "#bd3786"
             ],
             [
              0.5555555555555556,
              "#d8576b"
             ],
             [
              0.6666666666666666,
              "#ed7953"
             ],
             [
              0.7777777777777778,
              "#fb9f3a"
             ],
             [
              0.8888888888888888,
              "#fdca26"
             ],
             [
              1,
              "#f0f921"
             ]
            ],
            "type": "histogram2d"
           }
          ],
          "histogram2dcontour": [
           {
            "colorbar": {
             "outlinewidth": 0,
             "ticks": ""
            },
            "colorscale": [
             [
              0,
              "#0d0887"
             ],
             [
              0.1111111111111111,
              "#46039f"
             ],
             [
              0.2222222222222222,
              "#7201a8"
             ],
             [
              0.3333333333333333,
              "#9c179e"
             ],
             [
              0.4444444444444444,
              "#bd3786"
             ],
             [
              0.5555555555555556,
              "#d8576b"
             ],
             [
              0.6666666666666666,
              "#ed7953"
             ],
             [
              0.7777777777777778,
              "#fb9f3a"
             ],
             [
              0.8888888888888888,
              "#fdca26"
             ],
             [
              1,
              "#f0f921"
             ]
            ],
            "type": "histogram2dcontour"
           }
          ],
          "mesh3d": [
           {
            "colorbar": {
             "outlinewidth": 0,
             "ticks": ""
            },
            "type": "mesh3d"
           }
          ],
          "parcoords": [
           {
            "line": {
             "colorbar": {
              "outlinewidth": 0,
              "ticks": ""
             }
            },
            "type": "parcoords"
           }
          ],
          "pie": [
           {
            "automargin": true,
            "type": "pie"
           }
          ],
          "scatter": [
           {
            "fillpattern": {
             "fillmode": "overlay",
             "size": 10,
             "solidity": 0.2
            },
            "type": "scatter"
           }
          ],
          "scatter3d": [
           {
            "line": {
             "colorbar": {
              "outlinewidth": 0,
              "ticks": ""
             }
            },
            "marker": {
             "colorbar": {
              "outlinewidth": 0,
              "ticks": ""
             }
            },
            "type": "scatter3d"
           }
          ],
          "scattercarpet": [
           {
            "marker": {
             "colorbar": {
              "outlinewidth": 0,
              "ticks": ""
             }
            },
            "type": "scattercarpet"
           }
          ],
          "scattergeo": [
           {
            "marker": {
             "colorbar": {
              "outlinewidth": 0,
              "ticks": ""
             }
            },
            "type": "scattergeo"
           }
          ],
          "scattergl": [
           {
            "marker": {
             "colorbar": {
              "outlinewidth": 0,
              "ticks": ""
             }
            },
            "type": "scattergl"
           }
          ],
          "scattermapbox": [
           {
            "marker": {
             "colorbar": {
              "outlinewidth": 0,
              "ticks": ""
             }
            },
            "type": "scattermapbox"
           }
          ],
          "scatterpolar": [
           {
            "marker": {
             "colorbar": {
              "outlinewidth": 0,
              "ticks": ""
             }
            },
            "type": "scatterpolar"
           }
          ],
          "scatterpolargl": [
           {
            "marker": {
             "colorbar": {
              "outlinewidth": 0,
              "ticks": ""
             }
            },
            "type": "scatterpolargl"
           }
          ],
          "scatterternary": [
           {
            "marker": {
             "colorbar": {
              "outlinewidth": 0,
              "ticks": ""
             }
            },
            "type": "scatterternary"
           }
          ],
          "surface": [
           {
            "colorbar": {
             "outlinewidth": 0,
             "ticks": ""
            },
            "colorscale": [
             [
              0,
              "#0d0887"
             ],
             [
              0.1111111111111111,
              "#46039f"
             ],
             [
              0.2222222222222222,
              "#7201a8"
             ],
             [
              0.3333333333333333,
              "#9c179e"
             ],
             [
              0.4444444444444444,
              "#bd3786"
             ],
             [
              0.5555555555555556,
              "#d8576b"
             ],
             [
              0.6666666666666666,
              "#ed7953"
             ],
             [
              0.7777777777777778,
              "#fb9f3a"
             ],
             [
              0.8888888888888888,
              "#fdca26"
             ],
             [
              1,
              "#f0f921"
             ]
            ],
            "type": "surface"
           }
          ],
          "table": [
           {
            "cells": {
             "fill": {
              "color": "#EBF0F8"
             },
             "line": {
              "color": "white"
             }
            },
            "header": {
             "fill": {
              "color": "#C8D4E3"
             },
             "line": {
              "color": "white"
             }
            },
            "type": "table"
           }
          ]
         },
         "layout": {
          "annotationdefaults": {
           "arrowcolor": "#2a3f5f",
           "arrowhead": 0,
           "arrowwidth": 1
          },
          "autotypenumbers": "strict",
          "coloraxis": {
           "colorbar": {
            "outlinewidth": 0,
            "ticks": ""
           }
          },
          "colorscale": {
           "diverging": [
            [
             0,
             "#8e0152"
            ],
            [
             0.1,
             "#c51b7d"
            ],
            [
             0.2,
             "#de77ae"
            ],
            [
             0.3,
             "#f1b6da"
            ],
            [
             0.4,
             "#fde0ef"
            ],
            [
             0.5,
             "#f7f7f7"
            ],
            [
             0.6,
             "#e6f5d0"
            ],
            [
             0.7,
             "#b8e186"
            ],
            [
             0.8,
             "#7fbc41"
            ],
            [
             0.9,
             "#4d9221"
            ],
            [
             1,
             "#276419"
            ]
           ],
           "sequential": [
            [
             0,
             "#0d0887"
            ],
            [
             0.1111111111111111,
             "#46039f"
            ],
            [
             0.2222222222222222,
             "#7201a8"
            ],
            [
             0.3333333333333333,
             "#9c179e"
            ],
            [
             0.4444444444444444,
             "#bd3786"
            ],
            [
             0.5555555555555556,
             "#d8576b"
            ],
            [
             0.6666666666666666,
             "#ed7953"
            ],
            [
             0.7777777777777778,
             "#fb9f3a"
            ],
            [
             0.8888888888888888,
             "#fdca26"
            ],
            [
             1,
             "#f0f921"
            ]
           ],
           "sequentialminus": [
            [
             0,
             "#0d0887"
            ],
            [
             0.1111111111111111,
             "#46039f"
            ],
            [
             0.2222222222222222,
             "#7201a8"
            ],
            [
             0.3333333333333333,
             "#9c179e"
            ],
            [
             0.4444444444444444,
             "#bd3786"
            ],
            [
             0.5555555555555556,
             "#d8576b"
            ],
            [
             0.6666666666666666,
             "#ed7953"
            ],
            [
             0.7777777777777778,
             "#fb9f3a"
            ],
            [
             0.8888888888888888,
             "#fdca26"
            ],
            [
             1,
             "#f0f921"
            ]
           ]
          },
          "colorway": [
           "#636efa",
           "#EF553B",
           "#00cc96",
           "#ab63fa",
           "#FFA15A",
           "#19d3f3",
           "#FF6692",
           "#B6E880",
           "#FF97FF",
           "#FECB52"
          ],
          "font": {
           "color": "#2a3f5f"
          },
          "geo": {
           "bgcolor": "white",
           "lakecolor": "white",
           "landcolor": "#E5ECF6",
           "showlakes": true,
           "showland": true,
           "subunitcolor": "white"
          },
          "hoverlabel": {
           "align": "left"
          },
          "hovermode": "closest",
          "mapbox": {
           "style": "light"
          },
          "paper_bgcolor": "white",
          "plot_bgcolor": "#E5ECF6",
          "polar": {
           "angularaxis": {
            "gridcolor": "white",
            "linecolor": "white",
            "ticks": ""
           },
           "bgcolor": "#E5ECF6",
           "radialaxis": {
            "gridcolor": "white",
            "linecolor": "white",
            "ticks": ""
           }
          },
          "scene": {
           "xaxis": {
            "backgroundcolor": "#E5ECF6",
            "gridcolor": "white",
            "gridwidth": 2,
            "linecolor": "white",
            "showbackground": true,
            "ticks": "",
            "zerolinecolor": "white"
           },
           "yaxis": {
            "backgroundcolor": "#E5ECF6",
            "gridcolor": "white",
            "gridwidth": 2,
            "linecolor": "white",
            "showbackground": true,
            "ticks": "",
            "zerolinecolor": "white"
           },
           "zaxis": {
            "backgroundcolor": "#E5ECF6",
            "gridcolor": "white",
            "gridwidth": 2,
            "linecolor": "white",
            "showbackground": true,
            "ticks": "",
            "zerolinecolor": "white"
           }
          },
          "shapedefaults": {
           "line": {
            "color": "#2a3f5f"
           }
          },
          "ternary": {
           "aaxis": {
            "gridcolor": "white",
            "linecolor": "white",
            "ticks": ""
           },
           "baxis": {
            "gridcolor": "white",
            "linecolor": "white",
            "ticks": ""
           },
           "bgcolor": "#E5ECF6",
           "caxis": {
            "gridcolor": "white",
            "linecolor": "white",
            "ticks": ""
           }
          },
          "title": {
           "x": 0.05
          },
          "xaxis": {
           "automargin": true,
           "gridcolor": "white",
           "linecolor": "white",
           "ticks": "",
           "title": {
            "standoff": 15
           },
           "zerolinecolor": "white",
           "zerolinewidth": 2
          },
          "yaxis": {
           "automargin": true,
           "gridcolor": "white",
           "linecolor": "white",
           "ticks": "",
           "title": {
            "standoff": 15
           },
           "zerolinecolor": "white",
           "zerolinewidth": 2
          }
         }
        },
        "title": {
         "text": "Total Points Sum Over Years"
        },
        "xaxis": {
         "title": {
          "text": "Year"
         }
        },
        "yaxis": {
         "title": {
          "text": "Points"
         }
        }
       }
      }
     },
     "metadata": {},
     "output_type": "display_data"
    }
   ],
   "source": [
    "fig = go.Figure()\n",
    "\n",
    "values_sum = contestant_df.groupby('year')[['song', 'sf_num', 'running_final', 'running_sf', 'place_final','points_final', 'place_sf', 'points_sf', 'points_tele_final', 'points_jury_final', 'points_tele_sf', 'points_jury_sf', 'lyrics']].sum()\n",
    "values_sum = values_sum.replace(0, np.nan)\n",
    "\n",
    "# Add lines for each feature\n",
    "fig.add_trace(go.Scatter(x=values_sum.index, y=values_sum['points_final'], mode='lines+markers', name='points_final'))\n",
    "fig.add_trace(go.Scatter(x=values_sum.index, y=values_sum['points_tele_final'], mode='lines+markers', name='points_tele_final'))\n",
    "fig.add_trace(go.Scatter(x=values_sum.index, y=values_sum['points_jury_final'], mode='lines+markers', name='points_jury_final'))\n",
    "\n",
    "# Customize layout\n",
    "fig.update_layout(\n",
    "    title='Total Points Sum Over Years',\n",
    "    xaxis_title='Year',\n",
    "    yaxis_title='Points',\n",
    "    template='plotly',\n",
    "    legend_title='Products',\n",
    "    hovermode='x unified'\n",
    ")\n",
    "\n",
    "# Show the plot\n",
    "fig.show()\n"
   ]
  },
  {
   "cell_type": "markdown",
   "metadata": {},
   "source": [
    "#### c) Consistencies <br>\n",
    "Below shows some inconsistencies in values from both database.\n",
    "- Mislabeled data: `to_country_id` in contestant_df shows countries name, where it should be the id of the country. `from_country` and `to_country` in vote database are the opposite, showing the id of the country.\n",
    "- Inconsistency in countries: `to_country` in contestant_df contains duplicated labels.(e.g. Czechia and Czech Republic, and North Macedonia and North MacedoniaN.Macedonia)\n",
    "- Inconsistency in rounds: `sf_num` in contestant_df and `round` in vote_df shows inconsistency in labeling semi-finals. This is due to the change of semi-fianl rules, from introduction in 2004 to 2007, only one semi-final was present.\n",
    "- Irregural value: The `from_country` in vote_df contains 'wld' in year 2023, showing the voting participation from the rest of the worlds.\n",
    "- Number of values: `composer` and `lyricists` in contestant_df contains more than 2 values in it's data. composer or lyricists are separated with ';', showing more than 1 composer or lyricists participated in the song.\n",
    "- Languages: The `lyrics` in contestant_df contains lyrics in multiple languages, other than English."
   ]
  },
  {
   "cell_type": "code",
   "execution_count": 13,
   "metadata": {},
   "outputs": [
    {
     "name": "stdout",
     "output_type": "stream",
     "text": [
      "===> contestant_df\n",
      "to_country : ['Albania' 'Andorra' 'Armenia' 'Australia' 'Austria' 'Azerbaijan'\n",
      " 'Belarus' 'Belgium' 'Bosnia & Herzegovina' 'Bulgaria' 'Croatia' 'Cyprus'\n",
      " 'Czech Republic' 'Czechia' 'Denmark' 'Estonia' 'Finland' 'France'\n",
      " 'Georgia' 'Germany' 'Greece' 'Hungary' 'Iceland' 'Ireland' 'Israel'\n",
      " 'Italy' 'Latvia' 'Lithuania' 'Luxembourg' 'Malta' 'Moldova' 'Monaco'\n",
      " 'Montenegro' 'Morocco' 'Netherlands' 'North Macedonia'\n",
      " 'North MacedoniaN.Macedonia' 'Norway' 'Poland' 'Portugal' 'Romania'\n",
      " 'Russia' 'San Marino' 'Serbia' 'Serbia & Montenegro' 'Slovakia'\n",
      " 'Slovenia' 'Spain' 'Sweden' 'Switzerland' 'Turkey' 'Ukraine'\n",
      " 'United Kingdom' 'Yugoslavia']\n",
      "--------------------------------------------------\n",
      "to_country_id : ['Albania' 'Andorra' 'Armenia' 'Australia' 'Austria' 'Azerbaijan'\n",
      " 'Belarus' 'Belgium' 'Bosnia & Herzegovina' 'Bulgaria' 'Croatia' 'Cyprus'\n",
      " 'Czech Republic' 'Denmark' 'Estonia' 'Finland' 'Georgia' 'Greece'\n",
      " 'Hungary' 'Iceland' 'Ireland' 'Israel' 'Latvia' 'Lithuania' 'Malta'\n",
      " 'Moldova' 'Monaco' 'Montenegro' 'Netherlands' 'North Macedonia' 'Norway'\n",
      " 'Poland' 'Portugal' 'Romania' 'Russia' 'San Marino' 'Serbia' 'Slovakia'\n",
      " 'Slovenia' 'Sweden' 'Switzerland' 'Turkey' 'Ukraine' 'al' 'am' 'at' 'au'\n",
      " 'az' 'ba' 'be' 'bg' 'by' 'ch' 'cs' 'cy' 'cz' 'de' 'dk' 'ee' 'es' 'fi'\n",
      " 'fr' 'gb' 'ge' 'gr' 'hr' 'hu' 'ie' 'il' 'is' 'it' 'lt' 'lu' 'lv' 'ma'\n",
      " 'mc' 'md' 'me' 'mk' 'mt' 'nl' 'no' 'pl' 'pt' 'ro' 'rs' 'ru' 'se' 'si'\n",
      " 'sk' 'sm' 'tr' 'ua' 'yu']\n",
      "--------------------------------------------------\n",
      "sf_num : [0. 1. 2.]\n",
      "--------------------------------------------------\n",
      "composers : [\"'Abd Al-'Atī Amyna\" 'A. Migiani;Alain Barrière'\n",
      " \"AJ Junior;Alex Sparrow;Bilal 'The Chef';Eric Sanicola;RedOne\"\n",
      " 'Aapo Ilves;Ott Lepland' 'Aarno Raninen']\n",
      "--------------------------------------------------\n",
      "lyricists : ['Aapo Ilves'\n",
      " 'Aart Mol;Cees Bergman;Elmer Veerhoff;Erwin van Prehn;Geertjan Hessing'\n",
      " 'Abi F Jones;Benjamin Rekstad;Dominika Hasek'\n",
      " 'Adam Kesselhaut;Elżbieta Steinmetz' 'Adelaide;Luís Fernando']\n",
      "--------------------------------------------------\n",
      "lyrics : ['\"Aja ja ja...\" Strazdas dejavo:\\\\n\"Strazdo kojos nušalo\"\\\\n\\\\nNuo strazdo kojų, lejai lūžinėjo\\\\nŠaltinėlis tekėjo\\\\n\\\\nTekėk, saulele, anksti rytelį\\\\nTirpink strazdo kojelę\\\\n\"Ja ja ja ja...\"\\\\n\\\\n\"Aja ja ja...\" Strazdas dejavo:\\\\n\"Strazdo kojos nušalo\"'\n",
      " '\"Det er Oplysningen, hallo\"\\\\n\"Ja, hallo, det er Kaj, ka\\' jeg snak\\' med hende den søde?\"\\\\n\"Hvem er den søde?\"\\\\n\"Ja, stemmen i mit liv\"\\\\n\\\\n(Jeg tænder på dig, og ka\\' ikk\\' nå dig for)\\\\n(Du\\' så langt fra mig)\\\\n\\\\nJeg går og føler mig lidt ensom, fordi jeg savner en\\\\nJeg kan dele mit liv med, det er ved at være et problem\\\\nJeg ringer til dig, men kan ikke få det sagt\\\\nNår modet det så kommer, så er røret jo lagt på\\\\n\\\\nKlokken er to, jeg har prøvet flere gange\\\\nDu er ikk\\' og træffe, svaret er det samme\\\\nHvorfor er du borte, når jeg er lige her?\\\\nHvorfor er jeg ene? Jeg føler mig så sær\\\\n\\\\nJeg skyder over målet, hver gang jeg tror, jeg sigter\\\\nFøler mig så sikker, men kontakten til dig svigter\\\\nHar det ad helvede til, jeg drikker mig fuld\\\\nAlt dette for glemme dig og så din stemme\\\\n\\\\n(Jeg tænder på dig, og ka\\' ikk\\' nå dig) for\\\\n(Du\\' så langt fra mig), du er stemmen i mit liv\\\\n(Jeg ringer til dig, bar\\' jeg ku\\' se dig) for\\\\n(Du\\' så langt fra mig), ja, du er stemmen i mit liv\\\\n\\\\nJeg ble\\' fyret fra mit job, fordi jeg ringed\\' i arbejdstiden\\\\nDet ku\\' ikke stoppe mig, jeg ville hør\\' dig hele tiden\\\\nLige sid\\'n har min mobilregning vokset\\\\nSkylder folk penge, og mit liv er lidt kokset\\\\n\\\\nSelvom jeg er artigt opvokset, ka\\' jeg ikk\\' la\\' vær\\\\nTelefonen er nær, nummeret giver mig ikke besvær\\\\nMed at huske, for det er bare en, en og otte\\\\nHar ikk\\' snakket i dag, bar\\' jeg ku\\' nå det\\\\n\\\\nFor først var det Molly, så var det Lone, så var det Lis\\\\nSå var det Mette, så var det Helle, så var det Kis\\\\nMen hende, jeg ville snakke med, var ikke ved røret\\\\nHavd\\' ringet tyve gange, tænkte løbet var kørt\\\\n\\\\nFor bar\\' et enkelt svar kunne redde min dag\\\\nMen der var ingen lyse håb, intet svar jeg vil ha\\'\\\\nTil sidst faldt jeg om, med min telefon i hånden\\\\nMed drømmen om dig, din stemme i ånden\\\\n\\\\n(Jeg tænder på dig), yeah... (og ka\\' ikk\\' nå dig) for\\\\n(Du\\' så langt fra mig), du er stemmen i mit liv\\\\n(Jeg ringer til dig, bar\\' jeg ku\\' se dig) for\\\\n(Du\\' så langt fra mig), ja, du er stemmen i mit liv\\\\n\\\\nNå men, jeg må tage mig sammen ven\\\\nGribe telefonen og så prøve igen\\\\nJeg trykked\\' en, en, otte, ønskede, håbede\\\\n\"Det er Oplysningen\", og så stod jeg og måbede\\\\n\\\\n\"Hej, det er Kaj, du...\"\\\\n\"Der er i øjeblikket en kort ventetid på ca. tyve sekunder\\\\nVentetiden er gratis\"\\\\n\"Jeg elsker dig\"\\\\n\\\\n(Jeg tænder på dig), yeah... (og ka\\' ikk\\' nå dig) for\\\\n(Du\\' så langt fra mig), du er stemmen i mit liv\\\\n(Jeg ringer til dig, bar\\' jeg ku\\' se dig) for\\\\n(Du\\' så langt fra mig), ja, du er stemmen i mit liv\\\\n\\\\n(Jeg tænder på dig)'\n",
      " '\"There are only two ways to live your life\\\\nOne is as though nothing is a miracle\\\\nThe other is as though everything\\'s a miracle\"\\\\n\\\\nThere\\'s a miracle my friend\\\\nAnd it happens every day\\\\nHold out your hand\\\\nDon\\'t let it slip away\\\\n\\\\nIo so che esiste\\\\nGuarda meglio su\\\\nRitorna ogni giorno\\\\nPromettendo sempre più\\\\n\\\\nAfter the rain\\\\nNasce il sole\\\\n\\\\nI pray you see the light and find your way\\\\nLa forza del destino che è in te\\\\nDo your best, take a chance\\\\nDare to dream and make it real\\\\nSegui la verità, via della libertà\\\\n\\\\nMy friend\\\\nMy friend\\\\n\\\\nDon\\'t let go\\\\nLet it flow\\\\nCredi nel miracolo\\\\nFor the miracle\\\\nThat I\\'m talking of\\\\nIs the life that we\\'re given\\\\nLa vita vincera\\\\n\\\\nI pray you see the light and find your way\\\\n(I pray, I pray)\\\\nLa forza del destino che è in te\\\\n(I pray)\\\\nDo your best, take a chance\\\\nDare to dream and make it real\\\\nSegui la verità, via della libertà\\\\n\\\\nMy friend\\\\nMy friend\\\\nMy friend\\\\nMy friend\\\\nMy friend'\n",
      " '\"Yalnızlığım\" çaldı yine sessiz kapımı\\\\nKaranlığa giden yolu unutmuşken\\\\nYitirmişiz dünleri biz hep yarınlarda\\\\nAğla kalbim, ağla, çünkü bu son fırtına\\\\n\\\\nYazık olur ikimize sevgimize\\\\nHüzünlere çekme bizi bir nefeste\\\\nSenden kalan tek şey sana tutsaklığımsa\\\\nAğla kalbim, daha çok var aydınlığa\\\\n\\\\nNeden ayrılsın ellerimiz\\\\nSevgiyle bakan gözlerimiz?\\\\nYalnızken hani atmaz dururdu, yüreklerimiz?\\\\n\\\\nUnutamazsın yıllar geçse\\\\nSaçlarımıza aklar düşse\\\\nUnutturamaz bizi bize, hiç kimse\\\\n\\\\n\"Yalnızlığım\" çaldı yine sessiz kapımı\\\\nKaranlığa giden yolu unutmuşken\\\\nYitirmişiz dünleri biz hep yarınlarda\\\\nAğla kalbim, daha çok var aydınlığa\\\\n\\\\nNeden ayrılsın ellerimiz\\\\nSevgiyle bakan gözlerimiz?\\\\nYalnızken hani atmaz dururdu, yüreklerimiz?\\\\n\\\\nUnutamazsın yıllar geçse\\\\nSaçlarımıza aklar düşse\\\\nUnutturamaz bizi bize, hiç kimse\\\\n\\\\nUnutamazsın yıllar geçse\\\\nSaçlarımıza aklar düşse\\\\nUnutturamaz bizi bize, hiç kimse\\\\n\\\\nHiç kimse'\n",
      " \"'Ajde kroči, kroči i poskoči\\\\nTi si meni zapala za oči\\\\n\\\\nČija si lijepa đevojko?\\\\nPoljubiću tvoje crno oko\\\\nČija si lijepa đevojko?\\\\nPoljubiću tvoje crno oko\\\\n\\\\nO, kako si lijepa kao sva mora\\\\nO, kad iz tvog oka budi se zora\\\\nLjubavi\\\\n\\\\n'Ajde kroči, kroči i poskoči\\\\nTi si meni zapala za oči\\\\n'Ajde kroči, kroči i poskoči\\\\nDa ih je sedam, nikome te ne dam\\\\n\\\\nPoljubi me, lijepa đevojko\\\\nDa poletim kao sivi soko\\\\nPoljubi me, lijepa đevojko\\\\nPoletjeću kao sivi soko\\\\n\\\\nO, kako si lijepa kao sva mora\\\\nO, kad iz tvog oka budi se zora\\\\nLjubavi\\\\n\\\\n'Ajde kroči, kroči i poskoči\\\\nTi si meni zapala za oči\\\\n'Ajde kroči, kroči i poskoči\\\\nDa ih je sedam, nikome te ne dam\\\\n\\\\n'Ajde kroči (Kroči i poskoči)\\\\nTi si meni (zapala za oči)\\\\n\\\\n'Ajde kroči, kroči i poskoči\\\\nTi si meni zapala za oči\\\\n'Ajde kroči, kroči i poskoči\\\\nDa ih je sedam, nikome te ne dam\"]\n",
      "\n",
      " ===> vote_df\n",
      "round : ['final' 'semi-final' 'semi-final-1' 'semi-final-2']\n",
      "--------------------------------------------------\n",
      "from_country : ['ad' 'al' 'am' 'at' 'au' 'az' 'ba' 'be' 'bg' 'by' 'ch' 'cs' 'cy' 'cz'\n",
      " 'de' 'dk' 'ee' 'es' 'fi' 'fr' 'gb' 'ge' 'gr' 'hr' 'hu' 'ie' 'il' 'is'\n",
      " 'it' 'lt' 'lu' 'lv' 'ma' 'mc' 'md' 'me' 'mk' 'mt' 'nl' 'no' 'pl' 'pt'\n",
      " 'ro' 'rs' 'ru' 'se' 'si' 'sk' 'sm' 'tr' 'ua' 'wld' 'yu']\n",
      "--------------------------------------------------\n",
      "to_country : ['ad' 'al' 'am' 'at' 'au' 'az' 'ba' 'be' 'bg' 'by' 'ch' 'cs' 'cy' 'cz'\n",
      " 'de' 'dk' 'ee' 'es' 'fi' 'fr' 'gb' 'ge' 'gr' 'hr' 'hu' 'ie' 'il' 'is'\n",
      " 'it' 'lt' 'lu' 'lv' 'ma' 'mc' 'md' 'me' 'mk' 'mt' 'nl' 'no' 'pl' 'pt'\n",
      " 'ro' 'rs' 'ru' 'se' 'si' 'sk' 'sm' 'tr' 'ua' 'yu']\n",
      "--------------------------------------------------\n"
     ]
    }
   ],
   "source": [
    "print('===> contestant_df')\n",
    "for column in ['to_country','to_country_id', 'sf_num']:\n",
    "    print(f'{column} : {np.sort(contestant_df[column].dropna().unique())}')\n",
    "    print('--------------------------------------------------')\n",
    "\n",
    "for column in ['composers', 'lyricists']:\n",
    "    print(f'{column} : {np.sort(contestant_df[column].dropna().unique())[:5]}')\n",
    "    print('--------------------------------------------------')\n",
    "\n",
    "for column in ['lyrics']:\n",
    "    print(f'{column} : {np.sort(contestant_df[column].dropna().unique())[:5][:30]}')\n",
    "\n",
    "print('\\n ===> vote_df')\n",
    "for column in ['round', 'from_country', 'to_country']:\n",
    "    print(f'{column} : {np.sort(vote_df[column].dropna().unique())}')\n",
    "    print('--------------------------------------------------')"
   ]
  },
  {
   "cell_type": "markdown",
   "metadata": {},
   "source": [
    "#### d) Validity <br>\n",
    "Concerning the missing values, outliers, and consistencies, the data from the year 1956, 2020 and 2023 is considered invalid.<br>\n",
    "In the year 1956, the points, place, and voting details were not disclosed. Also countries participated with 2 songs each, which largely differs from another years of the contests.<br>\n",
    "In the year 2020, the contests itself was canceled due to the COVID-19 pandemic, and only the participants data is present.<br>\n",
    "In the year 2023, the data is not gathered, and final scores are missing in this dataset."
   ]
  },
  {
   "cell_type": "code",
   "execution_count": 14,
   "metadata": {},
   "outputs": [
    {
     "data": {
      "text/html": [
       "<div>\n",
       "<style scoped>\n",
       "    .dataframe tbody tr th:only-of-type {\n",
       "        vertical-align: middle;\n",
       "    }\n",
       "\n",
       "    .dataframe tbody tr th {\n",
       "        vertical-align: top;\n",
       "    }\n",
       "\n",
       "    .dataframe thead th {\n",
       "        text-align: right;\n",
       "    }\n",
       "</style>\n",
       "<table border=\"1\" class=\"dataframe\">\n",
       "  <thead>\n",
       "    <tr style=\"text-align: right;\">\n",
       "      <th></th>\n",
       "      <th>year</th>\n",
       "      <th>to_country_id</th>\n",
       "      <th>to_country</th>\n",
       "      <th>performer</th>\n",
       "      <th>song</th>\n",
       "      <th>place_contest</th>\n",
       "      <th>sf_num</th>\n",
       "      <th>running_final</th>\n",
       "      <th>running_sf</th>\n",
       "      <th>place_final</th>\n",
       "      <th>...</th>\n",
       "      <th>place_sf</th>\n",
       "      <th>points_sf</th>\n",
       "      <th>points_tele_final</th>\n",
       "      <th>points_jury_final</th>\n",
       "      <th>points_tele_sf</th>\n",
       "      <th>points_jury_sf</th>\n",
       "      <th>composers</th>\n",
       "      <th>lyricists</th>\n",
       "      <th>lyrics</th>\n",
       "      <th>youtube_url</th>\n",
       "    </tr>\n",
       "  </thead>\n",
       "  <tbody>\n",
       "    <tr>\n",
       "      <th>0</th>\n",
       "      <td>1956</td>\n",
       "      <td>ch</td>\n",
       "      <td>Switzerland</td>\n",
       "      <td>Lys Assia</td>\n",
       "      <td>Refrain</td>\n",
       "      <td>2.0</td>\n",
       "      <td>NaN</td>\n",
       "      <td>2.0</td>\n",
       "      <td>NaN</td>\n",
       "      <td>2.0</td>\n",
       "      <td>...</td>\n",
       "      <td>NaN</td>\n",
       "      <td>NaN</td>\n",
       "      <td>NaN</td>\n",
       "      <td>NaN</td>\n",
       "      <td>NaN</td>\n",
       "      <td>NaN</td>\n",
       "      <td>Georg Benz Stahl</td>\n",
       "      <td>NaN</td>\n",
       "      <td>(Refrain d'amour...)\\n\\nRefrain, couleur du ci...</td>\n",
       "      <td>https://youtube.com/watch?v=IyqIPvOkiRk</td>\n",
       "    </tr>\n",
       "    <tr>\n",
       "      <th>1</th>\n",
       "      <td>1956</td>\n",
       "      <td>nl</td>\n",
       "      <td>Netherlands</td>\n",
       "      <td>Jetty Paerl</td>\n",
       "      <td>De Vogels Van Holland</td>\n",
       "      <td>2.0</td>\n",
       "      <td>NaN</td>\n",
       "      <td>1.0</td>\n",
       "      <td>NaN</td>\n",
       "      <td>2.0</td>\n",
       "      <td>...</td>\n",
       "      <td>NaN</td>\n",
       "      <td>NaN</td>\n",
       "      <td>NaN</td>\n",
       "      <td>NaN</td>\n",
       "      <td>NaN</td>\n",
       "      <td>NaN</td>\n",
       "      <td>Cor Lemaire</td>\n",
       "      <td>Annie M. G. Schmidt</td>\n",
       "      <td>De vogels van Holland zijn zo muzikaal\\nZe ler...</td>\n",
       "      <td>https://youtube.com/watch?v=u45UQVGRVPA</td>\n",
       "    </tr>\n",
       "    <tr>\n",
       "      <th>2</th>\n",
       "      <td>1956</td>\n",
       "      <td>be</td>\n",
       "      <td>Belgium</td>\n",
       "      <td>Fud Leclerc</td>\n",
       "      <td>Messieurs Les Noyés De La Seine</td>\n",
       "      <td>2.0</td>\n",
       "      <td>NaN</td>\n",
       "      <td>3.0</td>\n",
       "      <td>NaN</td>\n",
       "      <td>2.0</td>\n",
       "      <td>...</td>\n",
       "      <td>NaN</td>\n",
       "      <td>NaN</td>\n",
       "      <td>NaN</td>\n",
       "      <td>NaN</td>\n",
       "      <td>NaN</td>\n",
       "      <td>NaN</td>\n",
       "      <td>Jacques Say;Jean Miret</td>\n",
       "      <td>Robert Montal</td>\n",
       "      <td>Messieurs les noyés de la Seine\\nOuvrez-moi le...</td>\n",
       "      <td>https://youtube.com/watch?v=U9O3sqlyra0</td>\n",
       "    </tr>\n",
       "    <tr>\n",
       "      <th>3</th>\n",
       "      <td>1956</td>\n",
       "      <td>de</td>\n",
       "      <td>Germany</td>\n",
       "      <td>Walter Andreas Schwarz</td>\n",
       "      <td>Im Wartesaal Zum Großen Glück</td>\n",
       "      <td>2.0</td>\n",
       "      <td>NaN</td>\n",
       "      <td>4.0</td>\n",
       "      <td>NaN</td>\n",
       "      <td>2.0</td>\n",
       "      <td>...</td>\n",
       "      <td>NaN</td>\n",
       "      <td>NaN</td>\n",
       "      <td>NaN</td>\n",
       "      <td>NaN</td>\n",
       "      <td>NaN</td>\n",
       "      <td>NaN</td>\n",
       "      <td>Walter Andreas Schwarz</td>\n",
       "      <td>NaN</td>\n",
       "      <td>Es gibt einen Hafen, da fährt kaum ein Schiff\\...</td>\n",
       "      <td>https://youtube.com/watch?v=BDNARIDnmTc</td>\n",
       "    </tr>\n",
       "    <tr>\n",
       "      <th>4</th>\n",
       "      <td>1956</td>\n",
       "      <td>fr</td>\n",
       "      <td>France</td>\n",
       "      <td>Mathé Altéry</td>\n",
       "      <td>Le Temps Perdu</td>\n",
       "      <td>2.0</td>\n",
       "      <td>NaN</td>\n",
       "      <td>5.0</td>\n",
       "      <td>NaN</td>\n",
       "      <td>2.0</td>\n",
       "      <td>...</td>\n",
       "      <td>NaN</td>\n",
       "      <td>NaN</td>\n",
       "      <td>NaN</td>\n",
       "      <td>NaN</td>\n",
       "      <td>NaN</td>\n",
       "      <td>NaN</td>\n",
       "      <td>André Lodge</td>\n",
       "      <td>Rachèle Thoreau</td>\n",
       "      <td>Chante, carillon\\nLe chant du temps perdu\\nCha...</td>\n",
       "      <td>https://youtube.com/watch?v=dm1L0XyikKI</td>\n",
       "    </tr>\n",
       "  </tbody>\n",
       "</table>\n",
       "<p>5 rows × 21 columns</p>\n",
       "</div>"
      ],
      "text/plain": [
       "   year to_country_id   to_country               performer  \\\n",
       "0  1956            ch  Switzerland               Lys Assia   \n",
       "1  1956            nl  Netherlands             Jetty Paerl   \n",
       "2  1956            be      Belgium             Fud Leclerc   \n",
       "3  1956            de      Germany  Walter Andreas Schwarz   \n",
       "4  1956            fr       France            Mathé Altéry   \n",
       "\n",
       "                              song  place_contest  sf_num  running_final  \\\n",
       "0                          Refrain            2.0     NaN            2.0   \n",
       "1            De Vogels Van Holland            2.0     NaN            1.0   \n",
       "2  Messieurs Les Noyés De La Seine            2.0     NaN            3.0   \n",
       "3    Im Wartesaal Zum Großen Glück            2.0     NaN            4.0   \n",
       "4                   Le Temps Perdu            2.0     NaN            5.0   \n",
       "\n",
       "   running_sf  place_final  ...  place_sf  points_sf  points_tele_final  \\\n",
       "0         NaN          2.0  ...       NaN        NaN                NaN   \n",
       "1         NaN          2.0  ...       NaN        NaN                NaN   \n",
       "2         NaN          2.0  ...       NaN        NaN                NaN   \n",
       "3         NaN          2.0  ...       NaN        NaN                NaN   \n",
       "4         NaN          2.0  ...       NaN        NaN                NaN   \n",
       "\n",
       "   points_jury_final  points_tele_sf  points_jury_sf               composers  \\\n",
       "0                NaN             NaN             NaN        Georg Benz Stahl   \n",
       "1                NaN             NaN             NaN             Cor Lemaire   \n",
       "2                NaN             NaN             NaN  Jacques Say;Jean Miret   \n",
       "3                NaN             NaN             NaN  Walter Andreas Schwarz   \n",
       "4                NaN             NaN             NaN             André Lodge   \n",
       "\n",
       "             lyricists                                             lyrics  \\\n",
       "0                  NaN  (Refrain d'amour...)\\n\\nRefrain, couleur du ci...   \n",
       "1  Annie M. G. Schmidt  De vogels van Holland zijn zo muzikaal\\nZe ler...   \n",
       "2        Robert Montal  Messieurs les noyés de la Seine\\nOuvrez-moi le...   \n",
       "3                  NaN  Es gibt einen Hafen, da fährt kaum ein Schiff\\...   \n",
       "4      Rachèle Thoreau  Chante, carillon\\nLe chant du temps perdu\\nCha...   \n",
       "\n",
       "                               youtube_url  \n",
       "0  https://youtube.com/watch?v=IyqIPvOkiRk  \n",
       "1  https://youtube.com/watch?v=u45UQVGRVPA  \n",
       "2  https://youtube.com/watch?v=U9O3sqlyra0  \n",
       "3  https://youtube.com/watch?v=BDNARIDnmTc  \n",
       "4  https://youtube.com/watch?v=dm1L0XyikKI  \n",
       "\n",
       "[5 rows x 21 columns]"
      ]
     },
     "execution_count": 14,
     "metadata": {},
     "output_type": "execute_result"
    }
   ],
   "source": [
    "contestant_df[contestant_df['year'].isin([1956, 2020, 2023])].head()"
   ]
  },
  {
   "cell_type": "code",
   "execution_count": 15,
   "metadata": {},
   "outputs": [
    {
     "data": {
      "text/html": [
       "<div>\n",
       "<style scoped>\n",
       "    .dataframe tbody tr th:only-of-type {\n",
       "        vertical-align: middle;\n",
       "    }\n",
       "\n",
       "    .dataframe tbody tr th {\n",
       "        vertical-align: top;\n",
       "    }\n",
       "\n",
       "    .dataframe thead th {\n",
       "        text-align: right;\n",
       "    }\n",
       "</style>\n",
       "<table border=\"1\" class=\"dataframe\">\n",
       "  <thead>\n",
       "    <tr style=\"text-align: right;\">\n",
       "      <th></th>\n",
       "      <th>year</th>\n",
       "      <th>round</th>\n",
       "      <th>from_country_id</th>\n",
       "      <th>to_country_id</th>\n",
       "      <th>from_country</th>\n",
       "      <th>to_country</th>\n",
       "      <th>total_points</th>\n",
       "      <th>tele_points</th>\n",
       "      <th>jury_points</th>\n",
       "    </tr>\n",
       "  </thead>\n",
       "  <tbody>\n",
       "    <tr>\n",
       "      <th>50366</th>\n",
       "      <td>2023</td>\n",
       "      <td>final</td>\n",
       "      <td>al</td>\n",
       "      <td>se</td>\n",
       "      <td>al</td>\n",
       "      <td>se</td>\n",
       "      <td>22</td>\n",
       "      <td>10.0</td>\n",
       "      <td>12.0</td>\n",
       "    </tr>\n",
       "    <tr>\n",
       "      <th>50367</th>\n",
       "      <td>2023</td>\n",
       "      <td>final</td>\n",
       "      <td>al</td>\n",
       "      <td>fi</td>\n",
       "      <td>al</td>\n",
       "      <td>fi</td>\n",
       "      <td>6</td>\n",
       "      <td>6.0</td>\n",
       "      <td>0.0</td>\n",
       "    </tr>\n",
       "    <tr>\n",
       "      <th>50368</th>\n",
       "      <td>2023</td>\n",
       "      <td>final</td>\n",
       "      <td>al</td>\n",
       "      <td>il</td>\n",
       "      <td>al</td>\n",
       "      <td>il</td>\n",
       "      <td>11</td>\n",
       "      <td>5.0</td>\n",
       "      <td>6.0</td>\n",
       "    </tr>\n",
       "    <tr>\n",
       "      <th>50369</th>\n",
       "      <td>2023</td>\n",
       "      <td>final</td>\n",
       "      <td>al</td>\n",
       "      <td>it</td>\n",
       "      <td>al</td>\n",
       "      <td>it</td>\n",
       "      <td>14</td>\n",
       "      <td>12.0</td>\n",
       "      <td>2.0</td>\n",
       "    </tr>\n",
       "    <tr>\n",
       "      <th>50370</th>\n",
       "      <td>2023</td>\n",
       "      <td>final</td>\n",
       "      <td>al</td>\n",
       "      <td>no</td>\n",
       "      <td>al</td>\n",
       "      <td>no</td>\n",
       "      <td>4</td>\n",
       "      <td>4.0</td>\n",
       "      <td>0.0</td>\n",
       "    </tr>\n",
       "  </tbody>\n",
       "</table>\n",
       "</div>"
      ],
      "text/plain": [
       "       year  round from_country_id to_country_id from_country to_country  \\\n",
       "50366  2023  final              al            se           al         se   \n",
       "50367  2023  final              al            fi           al         fi   \n",
       "50368  2023  final              al            il           al         il   \n",
       "50369  2023  final              al            it           al         it   \n",
       "50370  2023  final              al            no           al         no   \n",
       "\n",
       "       total_points  tele_points  jury_points  \n",
       "50366            22         10.0         12.0  \n",
       "50367             6          6.0          0.0  \n",
       "50368            11          5.0          6.0  \n",
       "50369            14         12.0          2.0  \n",
       "50370             4          4.0          0.0  "
      ]
     },
     "execution_count": 15,
     "metadata": {},
     "output_type": "execute_result"
    }
   ],
   "source": [
    "vote_df[vote_df['year'].isin([1956,2020, 2023])].head()"
   ]
  },
  {
   "cell_type": "markdown",
   "metadata": {},
   "source": [
    "### 3-3. Information on Our Goal.\n",
    "To visualize and model with these datasets, we need the following processes:\n",
    "- Filling in missing values: The missing values outside of the pattern recognized in 3-1, need to be filled in(e.g. songs, lyricists). We will run additional search to get the missing values.\n",
    "- Standardize points: Standardilzation of points is required to run through multi-year summation and comparision. Regarding the rules have changed many times, we need to adopt method to deal with changes(e.g. percentage on maximum points contestant can get).\n",
    "- Refactor inconsistent values: Mislabeled and inconsistent number of data should be modified to avoid errors in visualization process. We need to manipulate dataframe to meet the visualization's needs.\n",
    "- Lyrics manipulation: To create word cloud, the lyrics should be reformed in single language(English preferred) and tokenized in dataset. We need to either translate the lyrics or find additional source of lyrics, and run through LLM to tokenize the relevant words."
   ]
  },
  {
   "cell_type": "markdown",
   "metadata": {},
   "source": [
    "## 4. Implementation of Data Preparation Goals"
   ]
  },
  {
   "cell_type": "markdown",
   "metadata": {},
   "source": [
    "### 4-1. Data Wrangling Progress and Results"
   ]
  },
  {
   "cell_type": "markdown",
   "metadata": {},
   "source": [
    "#### a) Invalid data\n",
    "Firstly, we removed invalid datasets from the data. We removed the years 1956, 2020, and 2023, as voting data from such years are not provided. <br>\n",
    "Also, irrelevant data columns for the visulization is moved from datasets."
   ]
  },
  {
   "cell_type": "code",
   "execution_count": 175,
   "metadata": {},
   "outputs": [],
   "source": [
    "contestant_df_cleaning = contestant_df[~contestant_df['year'].isin([1956, 2020, 2023])]\n",
    "vote_df_cleaning = vote_df[vote_df['year'] != 2023]"
   ]
  },
  {
   "cell_type": "markdown",
   "metadata": {},
   "source": [
    "#### b) Inconsistent Data Labeling\n",
    "\n",
    "The inconsistnt data related to countries, `to_country_id` and `to_country`, is correctly re-labeled.\n",
    "(e.g. Czechia to Czech Republic, North MacedoniaN.Macedonia to North Macedonia)"
   ]
  },
  {
   "cell_type": "code",
   "execution_count": 176,
   "metadata": {},
   "outputs": [],
   "source": [
    "# Replace 'Czechia' with 'Czech Republic' in the 'to_country' column\n",
    "contestant_df_cleaning.loc[:, 'to_country'] = contestant_df_cleaning['to_country'].replace('Czechia', 'Czech Republic')\n",
    "# Replace 'Czechia' with 'Czech Republic' in the 'to_country' column\n",
    "contestant_df_cleaning.loc[:, 'to_country'] = contestant_df_cleaning['to_country'].replace('North MacedoniaN.Macedonia', 'North Macedonia')\n",
    "\n",
    "\n",
    "# Dictionary mapping country names to their corresponding codes\n",
    "country_code_mapping = {\n",
    "    'Switzerland': 'ch', 'North Macedonia': 'mk', 'Latvia': 'lv', \n",
    "    'Slovenia': 'si', 'Belarus': 'by', 'Belgium': 'be', 'Montenegro': 'me',\n",
    "    'Portugal': 'pt', 'Estonia': 'ee', 'Netherlands': 'nl', 'Poland': 'pl', \n",
    "    'San Marino': 'sm', 'Finland': 'fi', 'Ireland': 'ie', 'Bulgaria': 'bg', \n",
    "    'Malta': 'mt', 'Iceland': 'is', 'Lithuania': 'lt', 'Albania': 'al',\n",
    "    'Croatia': 'hr', 'Cyprus': 'cy', 'Israel': 'il', 'Andorra': 'ad', \n",
    "    'Austria': 'at', 'Moldova': 'md', 'Czech Republic': 'cz', 'Georgia': 'ge', \n",
    "    'Slovakia': 'sk', 'Denmark': 'dk', 'Hungary': 'hu', 'Armenia': 'am', \n",
    "    'Monaco': 'mc', 'Norway': 'no', 'Serbia': 'rs', 'Romania': 'ro', \n",
    "    'Greece': 'gr', 'Sweden': 'se', 'Turkey': 'tr', 'Bosnia & Herzegovina': 'ba', \n",
    "    'Azerbaijan': 'az', 'Russia': 'ru'\n",
    "}\n",
    "\n",
    "# Replace country names in the 'to_country_id' column with corresponding codes\n",
    "contestant_df_cleaning.loc[:, 'to_country_id'] = contestant_df_cleaning['to_country_id'].replace(country_code_mapping)"
   ]
  },
  {
   "cell_type": "markdown",
   "metadata": {},
   "source": [
    "#### C) Normalization of Values\n",
    "\n",
    "As the voting rule has been consistently changed, all the points should be normalized along the years.\n",
    "Firstly, we tried MinMax normalization, based on yearly minimum and maximum points. However, all the winners are scored 100, causing comparing winners between diffrent years impossible.<br>\n",
    "To make it possible, we created new norm `percentage on maximum points possible`. It works as following:\n",
    "- Based on the voting rule, calculate maximum points one contestant can get as a maximum value instead of winner's point.(e.g. the maximum point possible based on voting rule)\n",
    "- re-Calculate MinMax as `percentage on maximum points possible`<br>\n",
    "\n",
    "This also allows to compare the received points of winners in a meaningful way. To give an example, we are now able to compare how well a song from 1990 performed in comparison to a winning song in 2010 based on how many points it received. If the song in 2010 got fewer points than the song in 1990 it could mean that either the competing songs in 2010 were quite good as well and thus the points got distributed more. \n",
    "\n",
    "In the graph below, the nomralized point of winning country(1st place) spans from 0 to 100, compared to highly varied original points. "
   ]
  },
  {
   "cell_type": "code",
   "metadata": {},
   "source": [
    "from sklearn.preprocessing import MinMaxScaler\n",
    "\n",
    "min, max = 0, 100\n",
    "\n",
    "# Inital MinMax normalization  #NOTE: As rules change by the years, calculated on yearly basis rather than using MinMaxScaler()\n",
    "def min_max(x):\n",
    "    target =contestant_df_cleaning[(contestant_df_cleaning['year'] == x['year']) & (contestant_df_cleaning['points_final'] != 'not_qualified')].copy()\n",
    "    result = min + (x['points_final'] - target['points_final'].min()) * (max-min)  / (target['points_final'].max() - target['points_final'].min())\n",
    "    return result\n",
    "\n",
    "contestant_df_cleaning['min_max'] = contestant_df_cleaning.apply(min_max, axis= 1)\n",
    "\n",
    "# MinMax using maximum points possible\n",
    "voting_calculation_df = pd.read_excel('dataset/voting_calculation.xlsx')\n",
    "contestant_df_cleaning = pd.merge(contestant_df_cleaning, voting_calculation_df[['year', 'total_without_contestant']], on='year', how='left')\n",
    "\n",
    "contestant_df_cleaning['per_of_pot_max'] = round((contestant_df_cleaning['points_final'] / contestant_df_cleaning['total_without_contestant']) * 100,1)\n",
    "\n",
    "\n",
    "# Application for vote_df\n",
    "vote_df_cleaning = vote_df.merge(voting_calculation_df[['year', 'max points per country']], on='year', how='left')\n",
    "\n",
    "# Calculate perc_of_max for 'final' rounds only\n",
    "vote_df_cleaning['perc_of_max'] = None  # Initialize the column\n",
    "vote_df_cleaning.loc[vote_df_cleaning['round'] == 'final', 'perc_of_max'] = (\n",
    "    (vote_df_cleaning['total_points'] / vote_df_cleaning['max points per country']) * 100\n",
    ").round(2)\n",
    "vote_df_cleaning.loc[vote_df_cleaning['round'] != 'final', 'perc_of_max'] = \"no final round\""
   ],
   "outputs": [],
   "execution_count": null
  },
  {
   "cell_type": "code",
   "execution_count": 180,
   "metadata": {},
   "outputs": [
    {
     "data": {
      "application/vnd.plotly.v1+json": {
       "config": {
        "plotlyServerURL": "https://plot.ly"
       },
       "data": [
        {
         "marker": {
          "symbol": "circle"
         },
         "mode": "lines+markers",
         "name": "Original Points",
         "type": "scatter",
         "x": [
          1957,
          1958,
          1959,
          1960,
          1961,
          1962,
          1963,
          1964,
          1965,
          1966,
          1967,
          1968,
          1969,
          1970,
          1971,
          1972,
          1973,
          1974,
          1975,
          1976,
          1977,
          1978,
          1979,
          1980,
          1981,
          1982,
          1983,
          1984,
          1985,
          1986,
          1987,
          1988,
          1989,
          1990,
          1991,
          1992,
          1993,
          1994,
          1995,
          1996,
          1997,
          1998,
          1999,
          2000,
          2001,
          2002,
          2003,
          2004,
          2005,
          2006,
          2007,
          2008,
          2009,
          2010,
          2011,
          2012,
          2013,
          2014,
          2015,
          2016,
          2017,
          2018,
          2019,
          2021,
          2022
         ],
         "y": [
          31,
          27,
          21,
          32,
          31,
          26,
          42,
          49,
          32,
          31,
          47,
          29,
          18,
          32,
          128,
          128,
          129,
          24,
          152,
          164,
          136,
          157,
          125,
          143,
          136,
          161,
          142,
          145,
          123,
          176,
          172,
          137,
          137,
          149,
          146,
          155,
          187,
          226,
          148,
          162,
          227,
          172,
          163,
          195,
          198,
          176,
          167,
          280,
          230,
          292,
          268,
          272,
          387,
          246,
          221,
          372,
          281,
          290,
          365,
          534,
          758,
          529,
          498,
          524,
          631
         ]
        },
        {
         "marker": {
          "symbol": "square"
         },
         "mode": "lines+markers",
         "name": "Naive MinMax",
         "type": "scatter",
         "x": [
          1957,
          1958,
          1959,
          1960,
          1961,
          1962,
          1963,
          1964,
          1965,
          1966,
          1967,
          1968,
          1969,
          1970,
          1971,
          1972,
          1973,
          1974,
          1975,
          1976,
          1977,
          1978,
          1979,
          1980,
          1981,
          1982,
          1983,
          1984,
          1985,
          1986,
          1987,
          1988,
          1989,
          1990,
          1991,
          1992,
          1993,
          1994,
          1995,
          1996,
          1997,
          1998,
          1999,
          2000,
          2001,
          2002,
          2003,
          2004,
          2005,
          2006,
          2007,
          2008,
          2009,
          2010,
          2011,
          2012,
          2013,
          2014,
          2015,
          2016,
          2017,
          2018,
          2019,
          2021,
          2022
         ],
         "y": [
          100,
          100,
          100,
          100,
          100,
          100,
          100,
          100,
          100,
          100,
          100,
          100,
          100,
          100,
          100,
          100,
          100,
          100,
          100,
          100,
          100,
          100,
          100,
          100,
          100,
          100,
          100,
          100,
          100,
          100,
          100,
          100,
          100,
          100,
          100,
          100,
          100,
          100,
          100,
          100,
          100,
          100,
          100,
          100,
          100,
          100,
          100,
          100,
          100,
          100,
          100,
          100,
          100,
          100,
          100,
          100,
          100,
          100,
          100,
          100,
          100,
          100,
          100,
          100,
          100
         ]
        },
        {
         "marker": {
          "symbol": "x"
         },
         "mode": "lines+markers",
         "name": "Final Normalization",
         "type": "scatter",
         "x": [
          1957,
          1958,
          1959,
          1960,
          1961,
          1962,
          1963,
          1964,
          1965,
          1966,
          1967,
          1968,
          1969,
          1970,
          1971,
          1972,
          1973,
          1974,
          1975,
          1976,
          1977,
          1978,
          1979,
          1980,
          1981,
          1982,
          1983,
          1984,
          1985,
          1986,
          1987,
          1988,
          1989,
          1990,
          1991,
          1992,
          1993,
          1994,
          1995,
          1996,
          1997,
          1998,
          1999,
          2000,
          2001,
          2002,
          2003,
          2004,
          2005,
          2006,
          2007,
          2008,
          2009,
          2010,
          2011,
          2012,
          2013,
          2014,
          2015,
          2016,
          2017,
          2018,
          2019,
          2021,
          2022
         ],
         "y": [
          34.4,
          30,
          21,
          26.7,
          20.7,
          57.8,
          56,
          36.3,
          20.9,
          20.3,
          29.4,
          18.1,
          12,
          29.1,
          75.3,
          75.3,
          80.6,
          15,
          70.4,
          80.4,
          66.7,
          68.9,
          57.9,
          66.2,
          59.6,
          78.9,
          62.3,
          67.1,
          56.9,
          77.2,
          68.3,
          57.1,
          54.4,
          59.1,
          57.9,
          58.7,
          64.9,
          78.5,
          56.1,
          61.4,
          78.8,
          59.7,
          61.7,
          70.7,
          75,
          63.8,
          55.7,
          66.7,
          50.4,
          67.6,
          54.5,
          54,
          78.7,
          53.9,
          43.8,
          75.6,
          61.6,
          67.1,
          78,
          54.3,
          77,
          52.5,
          51.9,
          57.5,
          67.4
         ]
        }
       ],
       "layout": {
        "legend": {
         "title": {
          "text": "Legend"
         }
        },
        "template": {
         "data": {
          "bar": [
           {
            "error_x": {
             "color": "#2a3f5f"
            },
            "error_y": {
             "color": "#2a3f5f"
            },
            "marker": {
             "line": {
              "color": "#E5ECF6",
              "width": 0.5
             },
             "pattern": {
              "fillmode": "overlay",
              "size": 10,
              "solidity": 0.2
             }
            },
            "type": "bar"
           }
          ],
          "barpolar": [
           {
            "marker": {
             "line": {
              "color": "#E5ECF6",
              "width": 0.5
             },
             "pattern": {
              "fillmode": "overlay",
              "size": 10,
              "solidity": 0.2
             }
            },
            "type": "barpolar"
           }
          ],
          "carpet": [
           {
            "aaxis": {
             "endlinecolor": "#2a3f5f",
             "gridcolor": "white",
             "linecolor": "white",
             "minorgridcolor": "white",
             "startlinecolor": "#2a3f5f"
            },
            "baxis": {
             "endlinecolor": "#2a3f5f",
             "gridcolor": "white",
             "linecolor": "white",
             "minorgridcolor": "white",
             "startlinecolor": "#2a3f5f"
            },
            "type": "carpet"
           }
          ],
          "choropleth": [
           {
            "colorbar": {
             "outlinewidth": 0,
             "ticks": ""
            },
            "type": "choropleth"
           }
          ],
          "contour": [
           {
            "colorbar": {
             "outlinewidth": 0,
             "ticks": ""
            },
            "colorscale": [
             [
              0,
              "#0d0887"
             ],
             [
              0.1111111111111111,
              "#46039f"
             ],
             [
              0.2222222222222222,
              "#7201a8"
             ],
             [
              0.3333333333333333,
              "#9c179e"
             ],
             [
              0.4444444444444444,
              "#bd3786"
             ],
             [
              0.5555555555555556,
              "#d8576b"
             ],
             [
              0.6666666666666666,
              "#ed7953"
             ],
             [
              0.7777777777777778,
              "#fb9f3a"
             ],
             [
              0.8888888888888888,
              "#fdca26"
             ],
             [
              1,
              "#f0f921"
             ]
            ],
            "type": "contour"
           }
          ],
          "contourcarpet": [
           {
            "colorbar": {
             "outlinewidth": 0,
             "ticks": ""
            },
            "type": "contourcarpet"
           }
          ],
          "heatmap": [
           {
            "colorbar": {
             "outlinewidth": 0,
             "ticks": ""
            },
            "colorscale": [
             [
              0,
              "#0d0887"
             ],
             [
              0.1111111111111111,
              "#46039f"
             ],
             [
              0.2222222222222222,
              "#7201a8"
             ],
             [
              0.3333333333333333,
              "#9c179e"
             ],
             [
              0.4444444444444444,
              "#bd3786"
             ],
             [
              0.5555555555555556,
              "#d8576b"
             ],
             [
              0.6666666666666666,
              "#ed7953"
             ],
             [
              0.7777777777777778,
              "#fb9f3a"
             ],
             [
              0.8888888888888888,
              "#fdca26"
             ],
             [
              1,
              "#f0f921"
             ]
            ],
            "type": "heatmap"
           }
          ],
          "heatmapgl": [
           {
            "colorbar": {
             "outlinewidth": 0,
             "ticks": ""
            },
            "colorscale": [
             [
              0,
              "#0d0887"
             ],
             [
              0.1111111111111111,
              "#46039f"
             ],
             [
              0.2222222222222222,
              "#7201a8"
             ],
             [
              0.3333333333333333,
              "#9c179e"
             ],
             [
              0.4444444444444444,
              "#bd3786"
             ],
             [
              0.5555555555555556,
              "#d8576b"
             ],
             [
              0.6666666666666666,
              "#ed7953"
             ],
             [
              0.7777777777777778,
              "#fb9f3a"
             ],
             [
              0.8888888888888888,
              "#fdca26"
             ],
             [
              1,
              "#f0f921"
             ]
            ],
            "type": "heatmapgl"
           }
          ],
          "histogram": [
           {
            "marker": {
             "pattern": {
              "fillmode": "overlay",
              "size": 10,
              "solidity": 0.2
             }
            },
            "type": "histogram"
           }
          ],
          "histogram2d": [
           {
            "colorbar": {
             "outlinewidth": 0,
             "ticks": ""
            },
            "colorscale": [
             [
              0,
              "#0d0887"
             ],
             [
              0.1111111111111111,
              "#46039f"
             ],
             [
              0.2222222222222222,
              "#7201a8"
             ],
             [
              0.3333333333333333,
              "#9c179e"
             ],
             [
              0.4444444444444444,
              "#bd3786"
             ],
             [
              0.5555555555555556,
              "#d8576b"
             ],
             [
              0.6666666666666666,
              "#ed7953"
             ],
             [
              0.7777777777777778,
              "#fb9f3a"
             ],
             [
              0.8888888888888888,
              "#fdca26"
             ],
             [
              1,
              "#f0f921"
             ]
            ],
            "type": "histogram2d"
           }
          ],
          "histogram2dcontour": [
           {
            "colorbar": {
             "outlinewidth": 0,
             "ticks": ""
            },
            "colorscale": [
             [
              0,
              "#0d0887"
             ],
             [
              0.1111111111111111,
              "#46039f"
             ],
             [
              0.2222222222222222,
              "#7201a8"
             ],
             [
              0.3333333333333333,
              "#9c179e"
             ],
             [
              0.4444444444444444,
              "#bd3786"
             ],
             [
              0.5555555555555556,
              "#d8576b"
             ],
             [
              0.6666666666666666,
              "#ed7953"
             ],
             [
              0.7777777777777778,
              "#fb9f3a"
             ],
             [
              0.8888888888888888,
              "#fdca26"
             ],
             [
              1,
              "#f0f921"
             ]
            ],
            "type": "histogram2dcontour"
           }
          ],
          "mesh3d": [
           {
            "colorbar": {
             "outlinewidth": 0,
             "ticks": ""
            },
            "type": "mesh3d"
           }
          ],
          "parcoords": [
           {
            "line": {
             "colorbar": {
              "outlinewidth": 0,
              "ticks": ""
             }
            },
            "type": "parcoords"
           }
          ],
          "pie": [
           {
            "automargin": true,
            "type": "pie"
           }
          ],
          "scatter": [
           {
            "fillpattern": {
             "fillmode": "overlay",
             "size": 10,
             "solidity": 0.2
            },
            "type": "scatter"
           }
          ],
          "scatter3d": [
           {
            "line": {
             "colorbar": {
              "outlinewidth": 0,
              "ticks": ""
             }
            },
            "marker": {
             "colorbar": {
              "outlinewidth": 0,
              "ticks": ""
             }
            },
            "type": "scatter3d"
           }
          ],
          "scattercarpet": [
           {
            "marker": {
             "colorbar": {
              "outlinewidth": 0,
              "ticks": ""
             }
            },
            "type": "scattercarpet"
           }
          ],
          "scattergeo": [
           {
            "marker": {
             "colorbar": {
              "outlinewidth": 0,
              "ticks": ""
             }
            },
            "type": "scattergeo"
           }
          ],
          "scattergl": [
           {
            "marker": {
             "colorbar": {
              "outlinewidth": 0,
              "ticks": ""
             }
            },
            "type": "scattergl"
           }
          ],
          "scattermapbox": [
           {
            "marker": {
             "colorbar": {
              "outlinewidth": 0,
              "ticks": ""
             }
            },
            "type": "scattermapbox"
           }
          ],
          "scatterpolar": [
           {
            "marker": {
             "colorbar": {
              "outlinewidth": 0,
              "ticks": ""
             }
            },
            "type": "scatterpolar"
           }
          ],
          "scatterpolargl": [
           {
            "marker": {
             "colorbar": {
              "outlinewidth": 0,
              "ticks": ""
             }
            },
            "type": "scatterpolargl"
           }
          ],
          "scatterternary": [
           {
            "marker": {
             "colorbar": {
              "outlinewidth": 0,
              "ticks": ""
             }
            },
            "type": "scatterternary"
           }
          ],
          "surface": [
           {
            "colorbar": {
             "outlinewidth": 0,
             "ticks": ""
            },
            "colorscale": [
             [
              0,
              "#0d0887"
             ],
             [
              0.1111111111111111,
              "#46039f"
             ],
             [
              0.2222222222222222,
              "#7201a8"
             ],
             [
              0.3333333333333333,
              "#9c179e"
             ],
             [
              0.4444444444444444,
              "#bd3786"
             ],
             [
              0.5555555555555556,
              "#d8576b"
             ],
             [
              0.6666666666666666,
              "#ed7953"
             ],
             [
              0.7777777777777778,
              "#fb9f3a"
             ],
             [
              0.8888888888888888,
              "#fdca26"
             ],
             [
              1,
              "#f0f921"
             ]
            ],
            "type": "surface"
           }
          ],
          "table": [
           {
            "cells": {
             "fill": {
              "color": "#EBF0F8"
             },
             "line": {
              "color": "white"
             }
            },
            "header": {
             "fill": {
              "color": "#C8D4E3"
             },
             "line": {
              "color": "white"
             }
            },
            "type": "table"
           }
          ]
         },
         "layout": {
          "annotationdefaults": {
           "arrowcolor": "#2a3f5f",
           "arrowhead": 0,
           "arrowwidth": 1
          },
          "autotypenumbers": "strict",
          "coloraxis": {
           "colorbar": {
            "outlinewidth": 0,
            "ticks": ""
           }
          },
          "colorscale": {
           "diverging": [
            [
             0,
             "#8e0152"
            ],
            [
             0.1,
             "#c51b7d"
            ],
            [
             0.2,
             "#de77ae"
            ],
            [
             0.3,
             "#f1b6da"
            ],
            [
             0.4,
             "#fde0ef"
            ],
            [
             0.5,
             "#f7f7f7"
            ],
            [
             0.6,
             "#e6f5d0"
            ],
            [
             0.7,
             "#b8e186"
            ],
            [
             0.8,
             "#7fbc41"
            ],
            [
             0.9,
             "#4d9221"
            ],
            [
             1,
             "#276419"
            ]
           ],
           "sequential": [
            [
             0,
             "#0d0887"
            ],
            [
             0.1111111111111111,
             "#46039f"
            ],
            [
             0.2222222222222222,
             "#7201a8"
            ],
            [
             0.3333333333333333,
             "#9c179e"
            ],
            [
             0.4444444444444444,
             "#bd3786"
            ],
            [
             0.5555555555555556,
             "#d8576b"
            ],
            [
             0.6666666666666666,
             "#ed7953"
            ],
            [
             0.7777777777777778,
             "#fb9f3a"
            ],
            [
             0.8888888888888888,
             "#fdca26"
            ],
            [
             1,
             "#f0f921"
            ]
           ],
           "sequentialminus": [
            [
             0,
             "#0d0887"
            ],
            [
             0.1111111111111111,
             "#46039f"
            ],
            [
             0.2222222222222222,
             "#7201a8"
            ],
            [
             0.3333333333333333,
             "#9c179e"
            ],
            [
             0.4444444444444444,
             "#bd3786"
            ],
            [
             0.5555555555555556,
             "#d8576b"
            ],
            [
             0.6666666666666666,
             "#ed7953"
            ],
            [
             0.7777777777777778,
             "#fb9f3a"
            ],
            [
             0.8888888888888888,
             "#fdca26"
            ],
            [
             1,
             "#f0f921"
            ]
           ]
          },
          "colorway": [
           "#636efa",
           "#EF553B",
           "#00cc96",
           "#ab63fa",
           "#FFA15A",
           "#19d3f3",
           "#FF6692",
           "#B6E880",
           "#FF97FF",
           "#FECB52"
          ],
          "font": {
           "color": "#2a3f5f"
          },
          "geo": {
           "bgcolor": "white",
           "lakecolor": "white",
           "landcolor": "#E5ECF6",
           "showlakes": true,
           "showland": true,
           "subunitcolor": "white"
          },
          "hoverlabel": {
           "align": "left"
          },
          "hovermode": "closest",
          "mapbox": {
           "style": "light"
          },
          "paper_bgcolor": "white",
          "plot_bgcolor": "#E5ECF6",
          "polar": {
           "angularaxis": {
            "gridcolor": "white",
            "linecolor": "white",
            "ticks": ""
           },
           "bgcolor": "#E5ECF6",
           "radialaxis": {
            "gridcolor": "white",
            "linecolor": "white",
            "ticks": ""
           }
          },
          "scene": {
           "xaxis": {
            "backgroundcolor": "#E5ECF6",
            "gridcolor": "white",
            "gridwidth": 2,
            "linecolor": "white",
            "showbackground": true,
            "ticks": "",
            "zerolinecolor": "white"
           },
           "yaxis": {
            "backgroundcolor": "#E5ECF6",
            "gridcolor": "white",
            "gridwidth": 2,
            "linecolor": "white",
            "showbackground": true,
            "ticks": "",
            "zerolinecolor": "white"
           },
           "zaxis": {
            "backgroundcolor": "#E5ECF6",
            "gridcolor": "white",
            "gridwidth": 2,
            "linecolor": "white",
            "showbackground": true,
            "ticks": "",
            "zerolinecolor": "white"
           }
          },
          "shapedefaults": {
           "line": {
            "color": "#2a3f5f"
           }
          },
          "ternary": {
           "aaxis": {
            "gridcolor": "white",
            "linecolor": "white",
            "ticks": ""
           },
           "baxis": {
            "gridcolor": "white",
            "linecolor": "white",
            "ticks": ""
           },
           "bgcolor": "#E5ECF6",
           "caxis": {
            "gridcolor": "white",
            "linecolor": "white",
            "ticks": ""
           }
          },
          "title": {
           "x": 0.05
          },
          "xaxis": {
           "automargin": true,
           "gridcolor": "white",
           "linecolor": "white",
           "ticks": "",
           "title": {
            "standoff": 15
           },
           "zerolinecolor": "white",
           "zerolinewidth": 2
          },
          "yaxis": {
           "automargin": true,
           "gridcolor": "white",
           "linecolor": "white",
           "ticks": "",
           "title": {
            "standoff": 15
           },
           "zerolinecolor": "white",
           "zerolinewidth": 2
          }
         }
        },
        "title": {
         "text": "Points to Winning Country by Year"
        },
        "xaxis": {
         "title": {
          "text": "Year"
         }
        },
        "yaxis": {
         "title": {
          "text": "Winning Country Points"
         }
        }
       }
      }
     },
     "metadata": {},
     "output_type": "display_data"
    }
   ],
   "source": [
    "winning_points = contestant_df_cleaning.loc[contestant_df_cleaning['place_final'] == 1.0].groupby('year')['points_final'].mean()\n",
    "nomalized_points = contestant_df_cleaning.loc[contestant_df_cleaning['place_final'] == 1.0].groupby('year')['per_of_pot_max'].mean()\n",
    "minmax_point = contestant_df_cleaning.loc[contestant_df_cleaning['place_final'] == 1.0].groupby('year')['min_max'].mean()\n",
    "\n",
    "# Plot for Points to Winning Country by Year\n",
    "fig = go.Figure()\n",
    "fig.add_trace(go.Scatter(\n",
    "    x=winning_points.index, y=winning_points.values,\n",
    "    mode='lines+markers', name=\"Original Points\", marker=dict(symbol='circle')))\n",
    "\n",
    "fig.add_trace(go.Scatter(\n",
    "    x=minmax_point.index, y=minmax_point.values,\n",
    "    mode='lines+markers', name=\"Naive MinMax\", marker=dict(symbol='square')))\n",
    "\n",
    "fig.add_trace(go.Scatter(\n",
    "    x=nomalized_points.index, y=nomalized_points.values,\n",
    "    mode='lines+markers', name=\"Final Normalization\", marker=dict(symbol='x')))\n",
    "\n",
    "fig.update_layout(\n",
    "    title=\"Points to Winning Country by Year\",\n",
    "    xaxis_title=\"Year\", yaxis_title=\"Winning Country Points\",\n",
    "    template='plotly', legend=dict(title=\"Legend\"))\n",
    "\n",
    "fig.show()"
   ]
  },
  {
   "cell_type": "markdown",
   "metadata": {},
   "source": [
    "#### d) Missing values and Data cleanup\n",
    "**contestants_df**\n",
    "1) We fill the simple missing values, that are not within the patterns we found.\n",
    "    - Song: The 3 missing songs name are identical to performer's name based on [Eurovision](https://eurovisionworld.com/).\n",
    "\n",
    "2) Remove unnecessary data for the visualization\n",
    "    - sf_num: No need to know about semifinals\n",
    "    - running_final: No need to know about broadcast order (who performs when)\n",
    "    - running_sf: No need to know about broadcast order (who performs when)\n",
    "    - place_sf: No interest in Semifinal\n",
    "    - points_sf: No interest in Semifinal\n",
    "    - points_tele_sf: No interest in Semifinal\n",
    "    - points_jury_sf: No interest in Semifinal\n",
    "    - Lyrics: We added our own\n",
    "    - lyricists: No interest\n",
    "\n",
    "3) missing data from `place_final` and `points_final` will be filled with non-qualified.\n",
    "    - For the countries that dont qualify through the semifinal, the place_final and points_final are missing and will be changed to non-qualified.\n",
    "\n",
    "4) Missing Youtube Urls have been added manually.\n",
    "\n",
    "5) Composers have been manually added. If there was no composer available the songwriters were chosen instead.\n",
    "\n",
    "**Votes_df**\n",
    "1) Dropped the following:\n",
    "    - Year 2023 as not included in dataset\n",
    "    - to_country and to_country_id hold the same values, one is dropped. Same for from_country and from_country_id\n"
   ]
  },
  {
   "cell_type": "code",
   "execution_count": 181,
   "metadata": {},
   "outputs": [],
   "source": [
    "# Drop the specified columns\n",
    "columns_to_drop = [\n",
    "    'sf_num', 'running_final', 'running_sf', \n",
    "    'place_sf', 'points_sf', 'points_tele_sf', 'points_jury_sf', 'lyricists', 'lyrics'\n",
    "]\n",
    "\n",
    "contestant_df_cleaning = contestant_df_cleaning.drop(columns=columns_to_drop)"
   ]
  },
  {
   "cell_type": "code",
   "execution_count": 182,
   "metadata": {},
   "outputs": [
    {
     "data": {
      "text/html": [
       "<div>\n",
       "<style scoped>\n",
       "    .dataframe tbody tr th:only-of-type {\n",
       "        vertical-align: middle;\n",
       "    }\n",
       "\n",
       "    .dataframe tbody tr th {\n",
       "        vertical-align: top;\n",
       "    }\n",
       "\n",
       "    .dataframe thead th {\n",
       "        text-align: right;\n",
       "    }\n",
       "</style>\n",
       "<table border=\"1\" class=\"dataframe\">\n",
       "  <thead>\n",
       "    <tr style=\"text-align: right;\">\n",
       "      <th></th>\n",
       "      <th>year</th>\n",
       "      <th>to_country_id</th>\n",
       "      <th>to_country</th>\n",
       "      <th>performer</th>\n",
       "      <th>song</th>\n",
       "      <th>place_contest</th>\n",
       "      <th>place_final</th>\n",
       "      <th>points_final</th>\n",
       "      <th>points_tele_final</th>\n",
       "      <th>points_jury_final</th>\n",
       "      <th>composers</th>\n",
       "      <th>youtube_url</th>\n",
       "      <th>min_max</th>\n",
       "      <th>total_without_contestant</th>\n",
       "      <th>per_of_pot_max</th>\n",
       "    </tr>\n",
       "  </thead>\n",
       "  <tbody>\n",
       "    <tr>\n",
       "      <th>354</th>\n",
       "      <td>1979</td>\n",
       "      <td>de</td>\n",
       "      <td>Germany</td>\n",
       "      <td>Dschinghis Khan</td>\n",
       "      <td>NaN</td>\n",
       "      <td>4.0</td>\n",
       "      <td>4.0</td>\n",
       "      <td>86.0</td>\n",
       "      <td>NaN</td>\n",
       "      <td>NaN</td>\n",
       "      <td>Ralph Siegel</td>\n",
       "      <td>https://youtube.com/watch?v=eAEUrp2V4ss</td>\n",
       "      <td>67.500000</td>\n",
       "      <td>216</td>\n",
       "      <td>39.8</td>\n",
       "    </tr>\n",
       "    <tr>\n",
       "      <th>696</th>\n",
       "      <td>1995</td>\n",
       "      <td>gb</td>\n",
       "      <td>United Kingdom</td>\n",
       "      <td>Love City Groove</td>\n",
       "      <td>NaN</td>\n",
       "      <td>10.0</td>\n",
       "      <td>10.0</td>\n",
       "      <td>76.0</td>\n",
       "      <td>NaN</td>\n",
       "      <td>NaN</td>\n",
       "      <td>Beanz;Jay Williams;Paul Hardy;Tatsiana Mais</td>\n",
       "      <td>https://youtube.com/watch?v=IV_vJOWMWWY</td>\n",
       "      <td>51.020408</td>\n",
       "      <td>264</td>\n",
       "      <td>28.8</td>\n",
       "    </tr>\n",
       "    <tr>\n",
       "      <th>1140</th>\n",
       "      <td>2009</td>\n",
       "      <td>be</td>\n",
       "      <td>Belgium</td>\n",
       "      <td>Copycat</td>\n",
       "      <td>NaN</td>\n",
       "      <td>41.0</td>\n",
       "      <td>NaN</td>\n",
       "      <td>NaN</td>\n",
       "      <td>NaN</td>\n",
       "      <td>NaN</td>\n",
       "      <td>Miam Monster Miam</td>\n",
       "      <td>https://youtube.com/watch?v=8qVdSbiYT8w</td>\n",
       "      <td>NaN</td>\n",
       "      <td>492</td>\n",
       "      <td>NaN</td>\n",
       "    </tr>\n",
       "  </tbody>\n",
       "</table>\n",
       "</div>"
      ],
      "text/plain": [
       "      year to_country_id      to_country         performer song  \\\n",
       "354   1979            de         Germany   Dschinghis Khan  NaN   \n",
       "696   1995            gb  United Kingdom  Love City Groove  NaN   \n",
       "1140  2009            be         Belgium           Copycat  NaN   \n",
       "\n",
       "      place_contest  place_final  points_final  points_tele_final  \\\n",
       "354             4.0          4.0          86.0                NaN   \n",
       "696            10.0         10.0          76.0                NaN   \n",
       "1140           41.0          NaN           NaN                NaN   \n",
       "\n",
       "      points_jury_final                                    composers  \\\n",
       "354                 NaN                                 Ralph Siegel   \n",
       "696                 NaN  Beanz;Jay Williams;Paul Hardy;Tatsiana Mais   \n",
       "1140                NaN                            Miam Monster Miam   \n",
       "\n",
       "                                  youtube_url    min_max  \\\n",
       "354   https://youtube.com/watch?v=eAEUrp2V4ss  67.500000   \n",
       "696   https://youtube.com/watch?v=IV_vJOWMWWY  51.020408   \n",
       "1140  https://youtube.com/watch?v=8qVdSbiYT8w        NaN   \n",
       "\n",
       "      total_without_contestant  per_of_pot_max  \n",
       "354                        216            39.8  \n",
       "696                        264            28.8  \n",
       "1140                       492             NaN  "
      ]
     },
     "execution_count": 182,
     "metadata": {},
     "output_type": "execute_result"
    }
   ],
   "source": [
    "contestant_df_filled = contestant_df.copy()\n",
    "# Fix missing Song Titles\n",
    "missing_songs = contestant_df_cleaning[contestant_df_cleaning['song'].isna()].copy()\n",
    "contestant_df_cleaning.loc[:, 'song'] = contestant_df_cleaning['song'].fillna(contestant_df_cleaning['performer'])\n",
    "missing_songs"
   ]
  },
  {
   "cell_type": "code",
   "execution_count": 183,
   "metadata": {},
   "outputs": [
    {
     "data": {
      "image/png": "[encoded data removed]",
      "text/plain": [
       "<Figure size 1000x600 with 1 Axes>"
      ]
     },
     "metadata": {},
     "output_type": "display_data"
    }
   ],
   "source": [
    "# Filter rows where 'place_final' is NaN (indicating the country didn't qualify)\n",
    "non_qualified = contestant_df_cleaning[contestant_df_cleaning['place_final'].isna()]\n",
    "# Count occurrences of each 'place_contest' value for non-qualified countries\n",
    "place_counts = non_qualified['place_contest'].value_counts().sort_index()\n",
    "# Create a bar chart\n",
    "plt.figure(figsize=(10, 6))\n",
    "plt.bar(place_counts.index, place_counts.values, color='skyblue', edgecolor='black')\n",
    "plt.xlabel('Place Contest')\n",
    "plt.ylabel('Number of Non-Qualified Countries')\n",
    "plt.title('Distribution of Contest Places for Non-Qualified Countries')\n",
    "plt.show()\n",
    "\n",
    "contestant_df_cleaning[['place_final', 'points_final']] = contestant_df_cleaning[['place_final', 'points_final']].astype('object')\n",
    "# Replace NaN values in the 'place_contest' column with \"Non-Qualified\"\n",
    "contestant_df_cleaning.loc[(contestant_df_cleaning['place_final'].isna()), 'place_final'] = 'not_qualified'\n",
    "\n",
    "# Replace NaN values in 'points_final' with \"not_qualified\"\n",
    "contestant_df_cleaning.loc[(contestant_df_cleaning['points_final'].isna()), 'points_final'] = 'not_qualified'"
   ]
  },
  {
   "cell_type": "code",
   "execution_count": 185,
   "metadata": {},
   "outputs": [
    {
     "data": {
      "application/vnd.plotly.v1+json": {
       "config": {
        "plotlyServerURL": "https://plot.ly"
       },
       "data": [
        {
         "name": "Default data",
         "type": "bar",
         "x": [
          "year",
          "to_country_id",
          "to_country",
          "performer",
          "song",
          "place_contest",
          "place_final",
          "points_final",
          "points_tele_final",
          "points_jury_final",
          "composers",
          "youtube_url"
         ],
         "y": [
          1734,
          1734,
          1734,
          1734,
          1731,
          1678,
          1397,
          1385,
          181,
          181,
          1680,
          1722
         ]
        },
        {
         "name": "cleaned data",
         "type": "bar",
         "x": [
          "year",
          "to_country_id",
          "to_country",
          "performer",
          "song",
          "place_contest",
          "place_final",
          "points_final",
          "points_tele_final",
          "points_jury_final",
          "composers",
          "youtube_url"
         ],
         "y": [
          1629,
          1629,
          1629,
          1629,
          1629,
          1629,
          1629,
          1629,
          155,
          155,
          1616,
          1617
         ]
        }
       ],
       "layout": {
        "barmode": "group",
        "template": {
         "data": {
          "bar": [
           {
            "error_x": {
             "color": "#2a3f5f"
            },
            "error_y": {
             "color": "#2a3f5f"
            },
            "marker": {
             "line": {
              "color": "#E5ECF6",
              "width": 0.5
             },
             "pattern": {
              "fillmode": "overlay",
              "size": 10,
              "solidity": 0.2
             }
            },
            "type": "bar"
           }
          ],
          "barpolar": [
           {
            "marker": {
             "line": {
              "color": "#E5ECF6",
              "width": 0.5
             },
             "pattern": {
              "fillmode": "overlay",
              "size": 10,
              "solidity": 0.2
             }
            },
            "type": "barpolar"
           }
          ],
          "carpet": [
           {
            "aaxis": {
             "endlinecolor": "#2a3f5f",
             "gridcolor": "white",
             "linecolor": "white",
             "minorgridcolor": "white",
             "startlinecolor": "#2a3f5f"
            },
            "baxis": {
             "endlinecolor": "#2a3f5f",
             "gridcolor": "white",
             "linecolor": "white",
             "minorgridcolor": "white",
             "startlinecolor": "#2a3f5f"
            },
            "type": "carpet"
           }
          ],
          "choropleth": [
           {
            "colorbar": {
             "outlinewidth": 0,
             "ticks": ""
            },
            "type": "choropleth"
           }
          ],
          "contour": [
           {
            "colorbar": {
             "outlinewidth": 0,
             "ticks": ""
            },
            "colorscale": [
             [
              0,
              "#0d0887"
             ],
             [
              0.1111111111111111,
              "#46039f"
             ],
             [
              0.2222222222222222,
              "#7201a8"
             ],
             [
              0.3333333333333333,
              "#9c179e"
             ],
             [
              0.4444444444444444,
              "#bd3786"
             ],
             [
              0.5555555555555556,
              "#d8576b"
             ],
             [
              0.6666666666666666,
              "#ed7953"
             ],
             [
              0.7777777777777778,
              "#fb9f3a"
             ],
             [
              0.8888888888888888,
              "#fdca26"
             ],
             [
              1,
              "#f0f921"
             ]
            ],
            "type": "contour"
           }
          ],
          "contourcarpet": [
           {
            "colorbar": {
             "outlinewidth": 0,
             "ticks": ""
            },
            "type": "contourcarpet"
           }
          ],
          "heatmap": [
           {
            "colorbar": {
             "outlinewidth": 0,
             "ticks": ""
            },
            "colorscale": [
             [
              0,
              "#0d0887"
             ],
             [
              0.1111111111111111,
              "#46039f"
             ],
             [
              0.2222222222222222,
              "#7201a8"
             ],
             [
              0.3333333333333333,
              "#9c179e"
             ],
             [
              0.4444444444444444,
              "#bd3786"
             ],
             [
              0.5555555555555556,
              "#d8576b"
             ],
             [
              0.6666666666666666,
              "#ed7953"
             ],
             [
              0.7777777777777778,
              "#fb9f3a"
             ],
             [
              0.8888888888888888,
              "#fdca26"
             ],
             [
              1,
              "#f0f921"
             ]
            ],
            "type": "heatmap"
           }
          ],
          "heatmapgl": [
           {
            "colorbar": {
             "outlinewidth": 0,
             "ticks": ""
            },
            "colorscale": [
             [
              0,
              "#0d0887"
             ],
             [
              0.1111111111111111,
              "#46039f"
             ],
             [
              0.2222222222222222,
              "#7201a8"
             ],
             [
              0.3333333333333333,
              "#9c179e"
             ],
             [
              0.4444444444444444,
              "#bd3786"
             ],
             [
              0.5555555555555556,
              "#d8576b"
             ],
             [
              0.6666666666666666,
              "#ed7953"
             ],
             [
              0.7777777777777778,
              "#fb9f3a"
             ],
             [
              0.8888888888888888,
              "#fdca26"
             ],
             [
              1,
              "#f0f921"
             ]
            ],
            "type": "heatmapgl"
           }
          ],
          "histogram": [
           {
            "marker": {
             "pattern": {
              "fillmode": "overlay",
              "size": 10,
              "solidity": 0.2
             }
            },
            "type": "histogram"
           }
          ],
          "histogram2d": [
           {
            "colorbar": {
             "outlinewidth": 0,
             "ticks": ""
            },
            "colorscale": [
             [
              0,
              "#0d0887"
             ],
             [
              0.1111111111111111,
              "#46039f"
             ],
             [
              0.2222222222222222,
              "#7201a8"
             ],
             [
              0.3333333333333333,
              "#9c179e"
             ],
             [
              0.4444444444444444,
              "#bd3786"
             ],
             [
              0.5555555555555556,
              "#d8576b"
             ],
             [
              0.6666666666666666,
              "#ed7953"
             ],
             [
              0.7777777777777778,
              "#fb9f3a"
             ],
             [
              0.8888888888888888,
              "#fdca26"
             ],
             [
              1,
              "#f0f921"
             ]
            ],
            "type": "histogram2d"
           }
          ],
          "histogram2dcontour": [
           {
            "colorbar": {
             "outlinewidth": 0,
             "ticks": ""
            },
            "colorscale": [
             [
              0,
              "#0d0887"
             ],
             [
              0.1111111111111111,
              "#46039f"
             ],
             [
              0.2222222222222222,
              "#7201a8"
             ],
             [
              0.3333333333333333,
              "#9c179e"
             ],
             [
              0.4444444444444444,
              "#bd3786"
             ],
             [
              0.5555555555555556,
              "#d8576b"
             ],
             [
              0.6666666666666666,
              "#ed7953"
             ],
             [
              0.7777777777777778,
              "#fb9f3a"
             ],
             [
              0.8888888888888888,
              "#fdca26"
             ],
             [
              1,
              "#f0f921"
             ]
            ],
            "type": "histogram2dcontour"
           }
          ],
          "mesh3d": [
           {
            "colorbar": {
             "outlinewidth": 0,
             "ticks": ""
            },
            "type": "mesh3d"
           }
          ],
          "parcoords": [
           {
            "line": {
             "colorbar": {
              "outlinewidth": 0,
              "ticks": ""
             }
            },
            "type": "parcoords"
           }
          ],
          "pie": [
           {
            "automargin": true,
            "type": "pie"
           }
          ],
          "scatter": [
           {
            "fillpattern": {
             "fillmode": "overlay",
             "size": 10,
             "solidity": 0.2
            },
            "type": "scatter"
           }
          ],
          "scatter3d": [
           {
            "line": {
             "colorbar": {
              "outlinewidth": 0,
              "ticks": ""
             }
            },
            "marker": {
             "colorbar": {
              "outlinewidth": 0,
              "ticks": ""
             }
            },
            "type": "scatter3d"
           }
          ],
          "scattercarpet": [
           {
            "marker": {
             "colorbar": {
              "outlinewidth": 0,
              "ticks": ""
             }
            },
            "type": "scattercarpet"
           }
          ],
          "scattergeo": [
           {
            "marker": {
             "colorbar": {
              "outlinewidth": 0,
              "ticks": ""
             }
            },
            "type": "scattergeo"
           }
          ],
          "scattergl": [
           {
            "marker": {
             "colorbar": {
              "outlinewidth": 0,
              "ticks": ""
             }
            },
            "type": "scattergl"
           }
          ],
          "scattermapbox": [
           {
            "marker": {
             "colorbar": {
              "outlinewidth": 0,
              "ticks": ""
             }
            },
            "type": "scattermapbox"
           }
          ],
          "scatterpolar": [
           {
            "marker": {
             "colorbar": {
              "outlinewidth": 0,
              "ticks": ""
             }
            },
            "type": "scatterpolar"
           }
          ],
          "scatterpolargl": [
           {
            "marker": {
             "colorbar": {
              "outlinewidth": 0,
              "ticks": ""
             }
            },
            "type": "scatterpolargl"
           }
          ],
          "scatterternary": [
           {
            "marker": {
             "colorbar": {
              "outlinewidth": 0,
              "ticks": ""
             }
            },
            "type": "scatterternary"
           }
          ],
          "surface": [
           {
            "colorbar": {
             "outlinewidth": 0,
             "ticks": ""
            },
            "colorscale": [
             [
              0,
              "#0d0887"
             ],
             [
              0.1111111111111111,
              "#46039f"
             ],
             [
              0.2222222222222222,
              "#7201a8"
             ],
             [
              0.3333333333333333,
              "#9c179e"
             ],
             [
              0.4444444444444444,
              "#bd3786"
             ],
             [
              0.5555555555555556,
              "#d8576b"
             ],
             [
              0.6666666666666666,
              "#ed7953"
             ],
             [
              0.7777777777777778,
              "#fb9f3a"
             ],
             [
              0.8888888888888888,
              "#fdca26"
             ],
             [
              1,
              "#f0f921"
             ]
            ],
            "type": "surface"
           }
          ],
          "table": [
           {
            "cells": {
             "fill": {
              "color": "#EBF0F8"
             },
             "line": {
              "color": "white"
             }
            },
            "header": {
             "fill": {
              "color": "#C8D4E3"
             },
             "line": {
              "color": "white"
             }
            },
            "type": "table"
           }
          ]
         },
         "layout": {
          "annotationdefaults": {
           "arrowcolor": "#2a3f5f",
           "arrowhead": 0,
           "arrowwidth": 1
          },
          "autotypenumbers": "strict",
          "coloraxis": {
           "colorbar": {
            "outlinewidth": 0,
            "ticks": ""
           }
          },
          "colorscale": {
           "diverging": [
            [
             0,
             "#8e0152"
            ],
            [
             0.1,
             "#c51b7d"
            ],
            [
             0.2,
             "#de77ae"
            ],
            [
             0.3,
             "#f1b6da"
            ],
            [
             0.4,
             "#fde0ef"
            ],
            [
             0.5,
             "#f7f7f7"
            ],
            [
             0.6,
             "#e6f5d0"
            ],
            [
             0.7,
             "#b8e186"
            ],
            [
             0.8,
             "#7fbc41"
            ],
            [
             0.9,
             "#4d9221"
            ],
            [
             1,
             "#276419"
            ]
           ],
           "sequential": [
            [
             0,
             "#0d0887"
            ],
            [
             0.1111111111111111,
             "#46039f"
            ],
            [
             0.2222222222222222,
             "#7201a8"
            ],
            [
             0.3333333333333333,
             "#9c179e"
            ],
            [
             0.4444444444444444,
             "#bd3786"
            ],
            [
             0.5555555555555556,
             "#d8576b"
            ],
            [
             0.6666666666666666,
             "#ed7953"
            ],
            [
             0.7777777777777778,
             "#fb9f3a"
            ],
            [
             0.8888888888888888,
             "#fdca26"
            ],
            [
             1,
             "#f0f921"
            ]
           ],
           "sequentialminus": [
            [
             0,
             "#0d0887"
            ],
            [
             0.1111111111111111,
             "#46039f"
            ],
            [
             0.2222222222222222,
             "#7201a8"
            ],
            [
             0.3333333333333333,
             "#9c179e"
            ],
            [
             0.4444444444444444,
             "#bd3786"
            ],
            [
             0.5555555555555556,
             "#d8576b"
            ],
            [
             0.6666666666666666,
             "#ed7953"
            ],
            [
             0.7777777777777778,
             "#fb9f3a"
            ],
            [
             0.8888888888888888,
             "#fdca26"
            ],
            [
             1,
             "#f0f921"
            ]
           ]
          },
          "colorway": [
           "#636efa",
           "#EF553B",
           "#00cc96",
           "#ab63fa",
           "#FFA15A",
           "#19d3f3",
           "#FF6692",
           "#B6E880",
           "#FF97FF",
           "#FECB52"
          ],
          "font": {
           "color": "#2a3f5f"
          },
          "geo": {
           "bgcolor": "white",
           "lakecolor": "white",
           "landcolor": "#E5ECF6",
           "showlakes": true,
           "showland": true,
           "subunitcolor": "white"
          },
          "hoverlabel": {
           "align": "left"
          },
          "hovermode": "closest",
          "mapbox": {
           "style": "light"
          },
          "paper_bgcolor": "white",
          "plot_bgcolor": "#E5ECF6",
          "polar": {
           "angularaxis": {
            "gridcolor": "white",
            "linecolor": "white",
            "ticks": ""
           },
           "bgcolor": "#E5ECF6",
           "radialaxis": {
            "gridcolor": "white",
            "linecolor": "white",
            "ticks": ""
           }
          },
          "scene": {
           "xaxis": {
            "backgroundcolor": "#E5ECF6",
            "gridcolor": "white",
            "gridwidth": 2,
            "linecolor": "white",
            "showbackground": true,
            "ticks": "",
            "zerolinecolor": "white"
           },
           "yaxis": {
            "backgroundcolor": "#E5ECF6",
            "gridcolor": "white",
            "gridwidth": 2,
            "linecolor": "white",
            "showbackground": true,
            "ticks": "",
            "zerolinecolor": "white"
           },
           "zaxis": {
            "backgroundcolor": "#E5ECF6",
            "gridcolor": "white",
            "gridwidth": 2,
            "linecolor": "white",
            "showbackground": true,
            "ticks": "",
            "zerolinecolor": "white"
           }
          },
          "shapedefaults": {
           "line": {
            "color": "#2a3f5f"
           }
          },
          "ternary": {
           "aaxis": {
            "gridcolor": "white",
            "linecolor": "white",
            "ticks": ""
           },
           "baxis": {
            "gridcolor": "white",
            "linecolor": "white",
            "ticks": ""
           },
           "bgcolor": "#E5ECF6",
           "caxis": {
            "gridcolor": "white",
            "linecolor": "white",
            "ticks": ""
           }
          },
          "title": {
           "x": 0.05
          },
          "xaxis": {
           "automargin": true,
           "gridcolor": "white",
           "linecolor": "white",
           "ticks": "",
           "title": {
            "standoff": 15
           },
           "zerolinecolor": "white",
           "zerolinewidth": 2
          },
          "yaxis": {
           "automargin": true,
           "gridcolor": "white",
           "linecolor": "white",
           "ticks": "",
           "title": {
            "standoff": 15
           },
           "zerolinecolor": "white",
           "zerolinewidth": 2
          }
         }
        },
        "title": {
         "text": "Data before and after cleaning"
        },
        "xaxis": {
         "title": {
          "text": "Category"
         }
        },
        "yaxis": {
         "title": {
          "text": "Counts"
         }
        }
       }
      }
     },
     "metadata": {},
     "output_type": "display_data"
    }
   ],
   "source": [
    "# Visualize missing data with bar charts\n",
    "original = contestant_df[['year', 'to_country_id', 'to_country', 'performer', 'song', 'place_contest', 'place_final', 'points_final', 'points_tele_final', 'points_jury_final', 'composers', 'youtube_url']]\n",
    "cleaninng = contestant_df_cleaning[['year', 'to_country_id', 'to_country', 'performer', 'song', 'place_contest', 'place_final', 'points_final', 'points_tele_final', 'points_jury_final', 'composers', 'youtube_url']]\n",
    "\n",
    "fig = go.Figure()\n",
    "\n",
    "fig.add_trace(go.Bar(\n",
    "    x=original.columns, y=original.count(),\n",
    "    name=\"Default data\"))\n",
    "\n",
    "fig.add_trace(go.Bar(\n",
    "    x=cleaninng.columns, y=cleaninng.count(),\n",
    "    name=\"cleaned data\"))\n",
    "\n",
    "fig.update_layout(\n",
    "    title=\"Data before and after cleaning\",\n",
    "    xaxis_title=\"Category\", yaxis_title=\"Counts\",\n",
    "    barmode='group',template='plotly'\n",
    ")\n",
    "\n",
    "fig.show()\n"
   ]
  },
  {
   "cell_type": "markdown",
   "metadata": {},
   "source": [
    "#### e) Additional Features\n",
    "\n",
    "To create visualization additional features were attached.\n",
    " - English Lyrics Tokenization: For the word cloud, english lyrics were scrapped from Eurovision website, and tokenized.\n",
    " - Geographical regions: The geographical region of each county is added to show voting patterns based on regions.<br> *for Data Scrapping codes, refer to `Appendix`*"
   ]
  },
  {
   "cell_type": "code",
   "execution_count": null,
   "metadata": {},
   "outputs": [
    {
     "name": "stderr",
     "output_type": "stream",
     "text": [
      "100%|██████████| 1629/1629 [01:49<00:00, 14.93it/s]\n"
     ]
    }
   ],
   "source": [
    "from tqdm import tqdm\n",
    "from collections import Counter\n",
    "import spacy\n",
    "import ast\n",
    "\n",
    "nlp = spacy.load(\"en_core_web_sm\")\n",
    "tqdm.pandas()\n",
    "\n",
    "exceptions = ['thing', 'word', '-', 'o', '¿', '…', 'ti', 'este', 'oh', 'iѕ', 'не','yo', 'te', 'sang','u','să', 'no', 'na', 'что','go', 'fi', 'por', 'yay', 'ooh', 'ou', 'whoa', 'mă', 'si', 'mai','тебе' , 'μου' ,'et', 'она'   ]\n",
    "\n",
    "def tokenizer(text):\n",
    "    doc = nlp(text)\n",
    "    return [token.lemma_ for token in doc if (token.pos_ in {\"NOUN\"} and token not in exceptions)]\n",
    "\n",
    "contestant_df_cleaned['lyrics_token'] = contestant_df_cleaned['lyrics_english'].progress_apply(tokenizer)\n",
    "# tokens = contestant_df_cleaned['lyrics_english'].progress_apply(tokenizer)"
   ]
  },
  {
   "cell_type": "code",
   "execution_count": null,
   "metadata": {},
   "outputs": [
    {
     "data": {
      "text/html": [
       "<div>\n",
       "<style scoped>\n",
       "    .dataframe tbody tr th:only-of-type {\n",
       "        vertical-align: middle;\n",
       "    }\n",
       "\n",
       "    .dataframe tbody tr th {\n",
       "        vertical-align: top;\n",
       "    }\n",
       "\n",
       "    .dataframe thead th {\n",
       "        text-align: right;\n",
       "    }\n",
       "</style>\n",
       "<table border=\"1\" class=\"dataframe\">\n",
       "  <thead>\n",
       "    <tr style=\"text-align: right;\">\n",
       "      <th></th>\n",
       "      <th>year</th>\n",
       "      <th>to_country_id</th>\n",
       "      <th>to_country</th>\n",
       "      <th>performer</th>\n",
       "      <th>song</th>\n",
       "      <th>place_contest</th>\n",
       "      <th>place_final</th>\n",
       "      <th>points_final</th>\n",
       "      <th>points_tele_final</th>\n",
       "      <th>points_jury_final</th>\n",
       "      <th>...</th>\n",
       "      <th>winner</th>\n",
       "      <th>top5</th>\n",
       "      <th>finalist</th>\n",
       "      <th>lyrics_english</th>\n",
       "      <th>total_without_contestant</th>\n",
       "      <th>per_of_pot_max</th>\n",
       "      <th>lyrics_token</th>\n",
       "      <th>tele_percentage</th>\n",
       "      <th>jury_percentage</th>\n",
       "      <th>region</th>\n",
       "    </tr>\n",
       "  </thead>\n",
       "  <tbody>\n",
       "    <tr>\n",
       "      <th>0</th>\n",
       "      <td>1957</td>\n",
       "      <td>nl</td>\n",
       "      <td>Netherlands</td>\n",
       "      <td>Corry Brokken</td>\n",
       "      <td>Net Als Toen</td>\n",
       "      <td>1.0</td>\n",
       "      <td>1.0</td>\n",
       "      <td>31.0</td>\n",
       "      <td>NaN</td>\n",
       "      <td>NaN</td>\n",
       "      <td>...</td>\n",
       "      <td>1</td>\n",
       "      <td>1</td>\n",
       "      <td>1</td>\n",
       "      <td>Don't be so drowsy with that eternal paper\\r\\n...</td>\n",
       "      <td>90</td>\n",
       "      <td>34.4</td>\n",
       "      <td>['drowsy', 'eternal', 'paper', 'yawn', 'sleep'...</td>\n",
       "      <td>NaN</td>\n",
       "      <td>NaN</td>\n",
       "      <td>Western Europe</td>\n",
       "    </tr>\n",
       "    <tr>\n",
       "      <th>1</th>\n",
       "      <td>1957</td>\n",
       "      <td>fr</td>\n",
       "      <td>France</td>\n",
       "      <td>Paule Desjardins</td>\n",
       "      <td>La Belle Amour</td>\n",
       "      <td>2.0</td>\n",
       "      <td>2.0</td>\n",
       "      <td>17.0</td>\n",
       "      <td>NaN</td>\n",
       "      <td>NaN</td>\n",
       "      <td>...</td>\n",
       "      <td>0</td>\n",
       "      <td>1</td>\n",
       "      <td>1</td>\n",
       "      <td>If you like nature, lilacs and birdies\\r\\nMusc...</td>\n",
       "      <td>90</td>\n",
       "      <td>18.9</td>\n",
       "      <td>['like', 'nature', 'lilac', 'birdie', 'fry', '...</td>\n",
       "      <td>NaN</td>\n",
       "      <td>NaN</td>\n",
       "      <td>Western Europe</td>\n",
       "    </tr>\n",
       "    <tr>\n",
       "      <th>2</th>\n",
       "      <td>1957</td>\n",
       "      <td>dk</td>\n",
       "      <td>Denmark</td>\n",
       "      <td>Birthe Wilke &amp; Gustav Winckler</td>\n",
       "      <td>Skibet Skal Sejle I Nat</td>\n",
       "      <td>3.0</td>\n",
       "      <td>3.0</td>\n",
       "      <td>10.0</td>\n",
       "      <td>NaN</td>\n",
       "      <td>NaN</td>\n",
       "      <td>...</td>\n",
       "      <td>0</td>\n",
       "      <td>1</td>\n",
       "      <td>1</td>\n",
       "      <td>Goodbye then, my lass, stay well\\r\\nI confess,...</td>\n",
       "      <td>90</td>\n",
       "      <td>11.1</td>\n",
       "      <td>['lass', 'stay', 'confess', 'heart', 'give', '...</td>\n",
       "      <td>NaN</td>\n",
       "      <td>NaN</td>\n",
       "      <td>Northern Europe</td>\n",
       "    </tr>\n",
       "    <tr>\n",
       "      <th>3</th>\n",
       "      <td>1957</td>\n",
       "      <td>lu</td>\n",
       "      <td>Luxembourg</td>\n",
       "      <td>Danièle Dupré</td>\n",
       "      <td>Amours Mortes (Tant De Peine)</td>\n",
       "      <td>4.0</td>\n",
       "      <td>4.0</td>\n",
       "      <td>8.0</td>\n",
       "      <td>NaN</td>\n",
       "      <td>NaN</td>\n",
       "      <td>...</td>\n",
       "      <td>0</td>\n",
       "      <td>1</td>\n",
       "      <td>1</td>\n",
       "      <td>You, that I love\\r\\nYou made me so much sad\\r\\...</td>\n",
       "      <td>90</td>\n",
       "      <td>8.9</td>\n",
       "      <td>['love', 'make', 'sad', 'erase', 'pass', 'day'...</td>\n",
       "      <td>NaN</td>\n",
       "      <td>NaN</td>\n",
       "      <td>Western Europe</td>\n",
       "    </tr>\n",
       "    <tr>\n",
       "      <th>4</th>\n",
       "      <td>1957</td>\n",
       "      <td>de</td>\n",
       "      <td>Germany</td>\n",
       "      <td>Margot Hielscher</td>\n",
       "      <td>Telefon, Telefon</td>\n",
       "      <td>4.0</td>\n",
       "      <td>4.0</td>\n",
       "      <td>8.0</td>\n",
       "      <td>NaN</td>\n",
       "      <td>NaN</td>\n",
       "      <td>...</td>\n",
       "      <td>0</td>\n",
       "      <td>1</td>\n",
       "      <td>1</td>\n",
       "      <td>Hello – how do you do?\\r\\nHello – thank you ve...</td>\n",
       "      <td>90</td>\n",
       "      <td>8.9</td>\n",
       "      <td>['do', 'thank', 'hear', 'country', 'thank', 'h...</td>\n",
       "      <td>NaN</td>\n",
       "      <td>NaN</td>\n",
       "      <td>Western Europe</td>\n",
       "    </tr>\n",
       "  </tbody>\n",
       "</table>\n",
       "<p>5 rows × 22 columns</p>\n",
       "</div>"
      ],
      "text/plain": [
       "   year to_country_id   to_country                       performer  \\\n",
       "0  1957            nl  Netherlands                   Corry Brokken   \n",
       "1  1957            fr       France                Paule Desjardins   \n",
       "2  1957            dk      Denmark  Birthe Wilke & Gustav Winckler   \n",
       "3  1957            lu   Luxembourg                   Danièle Dupré   \n",
       "4  1957            de      Germany                Margot Hielscher   \n",
       "\n",
       "                            song  place_contest place_final  points_final  \\\n",
       "0                   Net Als Toen            1.0         1.0          31.0   \n",
       "1                 La Belle Amour            2.0         2.0          17.0   \n",
       "2        Skibet Skal Sejle I Nat            3.0         3.0          10.0   \n",
       "3  Amours Mortes (Tant De Peine)            4.0         4.0           8.0   \n",
       "4               Telefon, Telefon            4.0         4.0           8.0   \n",
       "\n",
       "   points_tele_final  points_jury_final  ... winner top5  finalist  \\\n",
       "0                NaN                NaN  ...      1    1         1   \n",
       "1                NaN                NaN  ...      0    1         1   \n",
       "2                NaN                NaN  ...      0    1         1   \n",
       "3                NaN                NaN  ...      0    1         1   \n",
       "4                NaN                NaN  ...      0    1         1   \n",
       "\n",
       "                                      lyrics_english  \\\n",
       "0  Don't be so drowsy with that eternal paper\\r\\n...   \n",
       "1  If you like nature, lilacs and birdies\\r\\nMusc...   \n",
       "2  Goodbye then, my lass, stay well\\r\\nI confess,...   \n",
       "3  You, that I love\\r\\nYou made me so much sad\\r\\...   \n",
       "4  Hello – how do you do?\\r\\nHello – thank you ve...   \n",
       "\n",
       "   total_without_contestant per_of_pot_max  \\\n",
       "0                        90           34.4   \n",
       "1                        90           18.9   \n",
       "2                        90           11.1   \n",
       "3                        90            8.9   \n",
       "4                        90            8.9   \n",
       "\n",
       "                                        lyrics_token  tele_percentage  \\\n",
       "0  ['drowsy', 'eternal', 'paper', 'yawn', 'sleep'...              NaN   \n",
       "1  ['like', 'nature', 'lilac', 'birdie', 'fry', '...              NaN   \n",
       "2  ['lass', 'stay', 'confess', 'heart', 'give', '...              NaN   \n",
       "3  ['love', 'make', 'sad', 'erase', 'pass', 'day'...              NaN   \n",
       "4  ['do', 'thank', 'hear', 'country', 'thank', 'h...              NaN   \n",
       "\n",
       "  jury_percentage           region  \n",
       "0             NaN   Western Europe  \n",
       "1             NaN   Western Europe  \n",
       "2             NaN  Northern Europe  \n",
       "3             NaN   Western Europe  \n",
       "4             NaN   Western Europe  \n",
       "\n",
       "[5 rows x 22 columns]"
      ]
     },
     "execution_count": 35,
     "metadata": {},
     "output_type": "execute_result"
    }
   ],
   "source": [
    "region_raw = pd.read_csv('dataset/countries.csv')\n",
    "region_df = region_raw[['region']].copy()\n",
    "\n",
    "region_df['to_country_id'] = region_raw['country'].apply(lambda x: x.lower())\n",
    "contestant_df_cleaned = pd.merge(contestant_df_cleaned, region_df, on='to_country_id', how='left')\n",
    "contestant_df_cleaned.head()\n"
   ]
  },
  {
   "cell_type": "markdown",
   "metadata": {},
   "source": [
    "### 4-2. Data Modeling Progress and Results\n",
    "The following two interactive visuals are presented to the user. \n",
    "\n",
    "\n",
    "#### Comment\n",
    "The two visualizations highlight Eurovision voting and non-voting behaviors for the selected time period, focusing on final rounds.\n",
    "\n",
    "In the **voting visualization**, countries such as `de` (Germany), `se` (Sweden), and `nl` (Netherlands) form a prominent cluster, reflecting frequent voting exchanges within Western and Northern Europe. Conversely, countries like `fr` (France) and `ch` (Switzerland) cluster together, indicating shared voting tendencies but with limited alignment to other Western nations. Eastern European countries, including `ua` (Ukraine), `am` (Armenia), and `ru` (Russia), appear in a separate group, underscoring strong regional bloc voting within Eastern Europe.\n",
    "\n",
    "Both visualizations are influenced by the varying frequency of country participation over the years, which affects clustering results. This limitation is most pronounced when analyzing all years at once, as we are doing here, leading to stronger biases. Users can reduce this bias by exploring shorter time horizons, which allow for a more accurate and dynamic analysis of voting and non-voting behaviors over specific periods.\n",
    "\n",
    "\n",
    "Clustering of countries according to their voting behaviour. \n",
    "\n",
    "![Clustering of Votes](dataset/Clustering_voting.png)\n",
    "\n",
    "\n",
    "\n",
    "Clustering of countries according to their non-voting behaviour. \n",
    "\n",
    "![Clustering of non-votes](dataset/Clustering_non_voting.png)\n",
    "\n"
   ]
  },
  {
   "metadata": {},
   "cell_type": "markdown",
   "source": [
    "### 5. Reflection \n",
    "\n",
    " Our data wrangling and modeling decisions effectively address missing values and inconsistent data, ensuring robustness for the tasks at hand. Replacing missing values and standardizing points are crucial steps for data integrity. Dropping irrelevant columns further streamlined the dataset, allowing for more efficient analysis.\n",
    "\n",
    "The modeling choices, such as clustering voting and non-voting behaviors using KMeans, align well with the objective of understanding Eurovision patterns. The PCA dimensionality reduction aids in visualizing high-dimensional voting relationships, enhancing interpretability.\n",
    "\n",
    "However, refinements could include:\n",
    "- Exploring alternative clustering techniques, like hierarchical clustering, to capture other perspectives.\n",
    "- Come up with a solution to let the participation rate of countries be meaningful.\n",
    "\n",
    "These refinements could provide deeper insights and further strengthen task alignment"
   ]
  },
  {
   "cell_type": "markdown",
   "metadata": {},
   "source": [
    "# Appendix\n",
    "The following holds the code used for the data wrangling and modeling. \n",
    "\n",
    "#### Data Wrangling"
   ]
  },
  {
   "cell_type": "code",
   "execution_count": null,
   "metadata": {},
   "outputs": [],
   "source": [
    "# Fix missing Song Titles\n",
    "contestant_df['song'].fillna(contestant_df['performer'], inplace=True)\n",
    "\n",
    "\n",
    "#Remove countries from 1956, 2020 and 2023\n",
    "contestant_df = contestant_df[~contestant_df['year'].isin([1956, 2020, 2023])]\n",
    "\n",
    "\n",
    "# List of columns to drop\n",
    "columns_to_drop = [\n",
    "    'sf_num', 'running_final', 'running_sf', \n",
    "    'place_sf', 'points_sf', 'points_tele_sf', 'points_jury_sf', 'lyricists', 'lyrics'\n",
    "]\n",
    "\n",
    "\n",
    "# Drop the specified columns\n",
    "contestant_df = contestant_df.drop(columns=columns_to_drop)\n",
    "\n",
    "\n",
    "# Filter rows where 'place_final' is NaN (indicating the country didn't qualify)\n",
    "non_qualified = contestant_df[contestant_df['place_final'].isna()]\n",
    "# Count occurrences of each 'place_contest' value for non-qualified countries\n",
    "place_counts = non_qualified['place_contest'].value_counts().sort_index()\n",
    "# Create a bar chart\n",
    "plt.figure(figsize=(10, 6))\n",
    "plt.bar(place_counts.index, place_counts.values, color='skyblue', edgecolor='black')\n",
    "plt.xlabel('Place Contest')\n",
    "plt.ylabel('Number of Non-Qualified Countries')\n",
    "plt.title('Distribution of Contest Places for Non-Qualified Countries')\n",
    "plt.show()\n",
    "# Replace NaN values in the 'place_contest' column with \"Non-Qualified\"\n",
    "contestant_df['place_final'].fillna('non-qualified', inplace=True)\n",
    "\n",
    "\n",
    "# Replace NaN values in 'points_final' with \"not_qualified\"\n",
    "contestant_df.loc[(contestant_df['points_final'].isna()), 'points_final'] = 'not_qualified'\n",
    "\n",
    "\n",
    "# Create the 'winner' column: 1 if 'place_contest' is 1, otherwise 0\n",
    "contestant_df['winner'] = contestant_df['place_contest'].apply(lambda x: 1 if x == 1 else 0)\n",
    "# Create 'top5' column: 1 if 'place_contest' is between 1 and 5, otherwise 0\n",
    "contestant_df['top5'] = contestant_df['place_contest'].apply(lambda x: 1 if 1 <= x <= 5 else 0)\n",
    "# Create 'finalist' column: 1 if 'place_final' is not 'non-qualified', otherwise 0\n",
    "contestant_df['finalist'] = contestant_df['place_final'].apply(lambda x: 0 if x == 'non-qualified' else 1)\n",
    "\n",
    "\n",
    "# Replace 'Czechia' with 'Czech Republic' in the 'to_country' column\n",
    "contestant_df['to_country'] = contestant_df['to_country'].replace('Czechia', 'Czech Republic')\n",
    "# Replace 'Czechia' with 'Czech Republic' in the 'to_country' column\n",
    "contestant_df['to_country'] = contestant_df['to_country'].replace('North MacedoniaN.Macedonia', 'North Macedonia')\n",
    "\n",
    "\n",
    "# Dictionary mapping country names to their corresponding codes\n",
    "country_code_mapping = {\n",
    "    'Switzerland': 'ch', 'North Macedonia': 'mk', 'Latvia': 'lv', \n",
    "    'Slovenia': 'si', 'Belarus': 'by', 'Belgium': 'be', 'Montenegro': 'me',\n",
    "    'Portugal': 'pt', 'Estonia': 'ee', 'Netherlands': 'nl', 'Poland': 'pl', \n",
    "    'San Marino': 'sm', 'Finland': 'fi', 'Ireland': 'ie', 'Bulgaria': 'bg', \n",
    "    'Malta': 'mt', 'Iceland': 'is', 'Lithuania': 'lt', 'Albania': 'al',\n",
    "    'Croatia': 'hr', 'Cyprus': 'cy', 'Israel': 'il', 'Andorra': 'ad', \n",
    "    'Austria': 'at', 'Moldova': 'md', 'Czech Republic': 'cz', 'Georgia': 'ge', \n",
    "    'Slovakia': 'sk', 'Denmark': 'dk', 'Hungary': 'hu', 'Armenia': 'am', \n",
    "    'Monaco': 'mc', 'Norway': 'no', 'Serbia': 'rs', 'Romania': 'ro', \n",
    "    'Greece': 'gr', 'Sweden': 'se', 'Turkey': 'tr', 'Bosnia & Herzegovina': 'ba', \n",
    "    'Azerbaijan': 'az', 'Russia': 'ru'\n",
    "}\n",
    "\n",
    "# Replace country names in the 'to_country_id' column with corresponding codes\n",
    "contestant_df['to_country_id'] = contestant_df['to_country_id'].replace(country_code_mapping)\n",
    "\n",
    "\n",
    "# Example of adding a URL based on conditions\n",
    "country_id = 'cy'\n",
    "contestant_df.loc[(contestant_df['year'] == 2022) & (contestant_df['to_country_id'] == country_id), 'youtube_url'] = 'https://youtu.be/W2IUdTl-gAI'\n",
    "\n",
    "# --------------SCRAPPER-------------------------------------\n",
    "# import requests\n",
    "# from bs4 import BeautifulSoup\n",
    "# import pandas as pd\n",
    "# import time\n",
    "# import random\n",
    "# \n",
    "# def get_lyrics(year, country_name):\n",
    "#     url = f\"https://eurovisionworld.com/eurovision/{year}/{country_name}\"\n",
    "#     print(f\"Fetching URL: {url}\")\n",
    "#     \n",
    "#     # Headers to mimic a real browser request\n",
    "#     headers = {\n",
    "#         'User-Agent': 'Mozilla/5.0 (Windows NT 10.0; Win64; x64) AppleWebKit/537.36 (KHTML, like Gecko) Chrome/87.0.4280.88 Safari/537.36',\n",
    "#         'Accept-Language': 'en-US,en;q=0.9',\n",
    "#     }\n",
    "#     \n",
    "#     # Make the request\n",
    "#     response = requests.get(url, headers=headers)\n",
    "#     \n",
    "#     if response.status_code == 200:\n",
    "#         soup = BeautifulSoup(response.text, 'html.parser')\n",
    "#         \n",
    "#         # Try multiple selectors to find the English lyrics section\n",
    "#         possible_selectors = [\n",
    "#             ('div', {'class': 'lyrics_div lyr_div lyr_desktop', 'data-lyrics-language': \"1\"}),\n",
    "#             ('div', {'class': 'lyrics_div lyr_div', 'data-lyrics-language': \"1\"}),\n",
    "#             ('div', {'class': 'lyrics_div_wrap mm'}),\n",
    "#         ]\n",
    "#         \n",
    "#         lyrics_div = None\n",
    "#         for tag, attrs in possible_selectors:\n",
    "#             lyrics_div = soup.find(tag, attrs)\n",
    "#             if lyrics_div:\n",
    "#                 print(f\"English lyrics section found with selector: {tag}, {attrs}\")\n",
    "#                 break\n",
    "#         \n",
    "#         if lyrics_div:\n",
    "#             # Extract lyrics text, handling <p> and <br> tags\n",
    "#             lyrics_lines = []\n",
    "#             for paragraph in lyrics_div.find_all('p'):\n",
    "#                 line_text = paragraph.get_text(separator=\"\\n\").strip()\n",
    "#                 lyrics_lines.append(line_text)\n",
    "#             return \"\\n\".join(lyrics_lines)\n",
    "#         else:\n",
    "#             print(\"English lyrics section not found; trying alternative selectors.\")\n",
    "#             for tag, attrs in possible_selectors[1:]:  # Skip first, as it’s already tried\n",
    "#                 lyrics_div = soup.find(tag, attrs)\n",
    "#                 if lyrics_div:\n",
    "#                     print(f\"Fallback lyrics section found with selector: {tag}, {attrs}\")\n",
    "#                     lyrics_lines = []\n",
    "#                     for paragraph in lyrics_div.find_all('p'):\n",
    "#                         line_text = paragraph.get_text(separator=\"\\n\").strip()\n",
    "#                         lyrics_lines.append(line_text)\n",
    "#                     return \"\\n\".join(lyrics_lines)\n",
    "#             print(\"No lyrics found after trying all selectors.\")\n",
    "#     else:\n",
    "#         print(f\"Failed to fetch page: {response.status_code}\")\n",
    "#     return None\n",
    "# \n",
    "# \n",
    "# # Loop through each sampled row to fetch lyrics with progress tracking\n",
    "# sampled_lyrics_data = []\n",
    "# total_rows = len(contestant_df)\n",
    "# for index, row in contestant_df.iterrows():\n",
    "#     year = row['year']\n",
    "#     country_name = row['to_country'].lower().replace(\" \", \"-\")  # Format for URL\n",
    "#     \n",
    "#     # Get lyrics and handle any exceptions\n",
    "#     try:\n",
    "#         lyrics = get_lyrics(year, country_name)\n",
    "#         sampled_lyrics_data.append(lyrics)\n",
    "#         print(f\"Lyrics fetched for {year} {country_name} [{index + 1}/{total_rows}]\")\n",
    "#     except Exception as e:\n",
    "#         print(f\"Failed to fetch lyrics for {year} {country_name} [{index + 1}/{total_rows}]: {e}\")\n",
    "#     \n",
    "#     # Wait to avoid overloading the server\n",
    "#     time.sleep(random.uniform(0.5, 0.8))\n",
    "# \n",
    "# # Add the fetched lyrics data to the DataFrame\n",
    "# contestant_df['lyrics_english'] = sampled_lyrics_data\n",
    "# ---------------------------------------------------\n",
    "\n",
    "# Votes dataset\n",
    "vote_df = vote_df[vote_df['year'] != 2023]\n",
    "vote_df.drop(['from_country', 'to_country'], axis=1, inplace=True)\n",
    "\n",
    "# Merge the dataframes on the \"year\" column\n",
    "merged_df = pd.merge(contestant_df, voting_calculation_df[['year', 'total_without_contestant']], on='year', how='left')\n",
    "\n",
    "# Calculate the percentage of points_final compared to total_without_contestant\n",
    "merged_df['per_of_pot_max'] = round((merged_df['points_final'] / merged_df['total_without_contestant']) * 100,1)\n",
    "\n",
    "# Keep only the necessary columns for the updated contestants_df\n",
    "contestant_df = merged_df\n",
    "contestant_df['per_of_pot_max'] = contestant_df['per_of_pot_max'].fillna(0)\n",
    "\n",
    "# Calculate the new columns\n",
    "contestant_df['tele_percentage'] = (\n",
    "    (contestant_df['points_tele_final'] / contestant_df['total_without_contestant']) * 100\n",
    ").round(1)\n",
    "\n",
    "contestant_df['jury_percentage'] = (\n",
    "    (contestant_df['points_jury_final'] / contestant_df['total_without_contestant']) * 100\n",
    ").round(1)\n",
    "\n",
    "# Calculate the new columns\n",
    "vote_df['tele_percentage'] = (\n",
    "    (vote_df['tele_points'] / vote_df['max points per country']) * 100\n",
    ").round(1)\n",
    "\n",
    "vote_df['jury_percentage'] = (\n",
    "    (vote_df['jury_points'] / vote_df['max points per country']) * 100\n",
    ").round(1)\n",
    "\n",
    "vote_df['perc_of_max'] = pd.to_numeric(vote_df['perc_of_max'], errors='coerce').round(1)\n"
   ]
  },
  {
   "cell_type": "markdown",
   "metadata": {},
   "source": [
    "#### Clustering Code"
   ]
  },
  {
   "cell_type": "code",
   "execution_count": 3,
   "metadata": {
    "ExecuteTime": {
     "end_time": "2024-11-23T10:39:22.694421Z",
     "start_time": "2024-11-23T10:39:22.691048Z"
    }
   },
   "outputs": [],
   "source": [
    "# Imports\n",
    "import pandas as pd\n",
    "from sklearn.cluster import KMeans\n",
    "import matplotlib.pyplot as plt\n",
    "from sklearn.decomposition import PCA\n"
   ]
  },
  {
   "cell_type": "code",
   "execution_count": 4,
   "metadata": {
    "ExecuteTime": {
     "end_time": "2024-11-23T10:39:20.671165Z",
     "start_time": "2024-11-23T10:39:20.632397Z"
    }
   },
   "outputs": [],
   "source": [
    "#Load Data\n",
    "vote_df = pd.read_csv('dataset/votes_cleaned.csv')"
   ]
  },
  {
   "cell_type": "markdown",
   "metadata": {},
   "source": [
    "##### Data Preparation"
   ]
  },
  {
   "cell_type": "code",
   "execution_count": 5,
   "metadata": {
    "ExecuteTime": {
     "end_time": "2024-11-23T10:54:34.922094Z",
     "start_time": "2024-11-23T10:54:34.904392Z"
    }
   },
   "outputs": [],
   "source": [
    "# Filter the data for `round = final`\n",
    "final_round_votes = vote_df[vote_df['round'] == 'final']\n",
    "n_clusters = 5 # Replace with the desired number of clusters MAX 9\n",
    "\n",
    "# Pivot table to create the voting matrix using `perc_of_max`\n",
    "voting_matrix_perc_of_max = final_round_votes.pivot_table(\n",
    "    index='from_country_id',\n",
    "    columns='to_country_id',\n",
    "    values='perc_of_max',\n",
    "    aggfunc='sum',\n",
    "    fill_value=0\n",
    ")\n",
    "\n",
    "\n",
    "# To display the voting matrix nicely in Jupyter Notebook\n",
    "# voting_matrix_perc_of_max.style.format(precision=2)\n",
    "\n",
    "\n",
    "# Clustering markers generation\n",
    "def generate_markers(num_clusters):\n",
    "    \"\"\"\n",
    "    Generate a list of unique markers for the specified number of clusters.\n",
    "    \"\"\"\n",
    "    # Common marker shapes in matplotlib\n",
    "    base_markers = base_markers = ['o', 's', 'D', '^', 'v', '<', '>', 'p', '*']\n",
    "    \n",
    "    # If the number of clusters exceeds the number of unique markers, repeat them cyclically\n",
    "    markers = [base_markers[i % len(base_markers)] for i in range(num_clusters)]\n",
    "    \n",
    "    return markers\n"
   ]
  },
  {
   "cell_type": "markdown",
   "metadata": {},
   "source": [
    "##### KMeans Clustering for the proportional point distribution"
   ]
  },
  {
   "cell_type": "code",
   "metadata": {},
   "source": [
    "# Reduce dimensions for visualization using PCA\n",
    "pca1 = PCA(n_components=2)  # Reducing to 2 dimensions for scatterplot\n",
    "voting_matrix_2d = pca1.fit_transform(voting_matrix_perc_of_max)\n",
    "explained_variance1 = pca1.explained_variance_ratio_\n",
    "\n",
    "# Perform clustering\n",
    "kmeans_voting = KMeans(n_clusters=n_clusters, random_state=42)  # Specify number of clusters\n",
    "clusters_voting = kmeans_voting.fit_predict(voting_matrix_perc_of_max)\n",
    "shapes = generate_markers(n_clusters)\n",
    "\n",
    "# Create a scatterplot for the normal voting clustering\n",
    "plt.figure(figsize=(12, 10))\n",
    "for cluster_id in range(n_clusters):  # Iterates over the specified number of clusters\n",
    "    cluster_indices = [i for i, c in enumerate(clusters_voting) if c == cluster_id]\n",
    "    plt.scatter(\n",
    "        voting_matrix_2d[cluster_indices, 0],\n",
    "        voting_matrix_2d[cluster_indices, 1],\n",
    "        label=f'Cluster {cluster_id}',\n",
    "        marker=shapes[cluster_id],  # Use dynamically generated marker\n",
    "        s=100,\n",
    "        alpha=0.8\n",
    "    )\n",
    "\n",
    "# Add annotations for country codes\n",
    "for i, country in enumerate(voting_matrix_perc_of_max.index):\n",
    "    plt.annotate(country, (voting_matrix_2d[i, 0], voting_matrix_2d[i, 1]), fontsize=12, alpha=0.85)\n",
    "\n",
    "# Titles and labels\n",
    "plt.title(f\"Country Clustering Based on Voting Patterns (n_clusters={n_clusters})\", fontsize=14)\n",
    "plt.xlabel(f\"PCA Component 1 explained variance {explained_variance1[0]:.2%}\", fontsize=12)\n",
    "plt.ylabel(f\"PCA Component 2 explained variance {explained_variance1[1]:.2%}\", fontsize=12)\n",
    "plt.legend(title='Cluster ID', fontsize=10, loc='upper right')\n",
    "plt.grid(False)  # Remove gridlines for clarity\n",
    "plt.tight_layout()\n",
    "plt.show()\n"
   ],
   "outputs": [],
   "execution_count": null
  },
  {
   "cell_type": "markdown",
   "metadata": {},
   "source": [
    "##### KMeans Clustering for Countries that did not vote for each-other"
   ]
  },
  {
   "cell_type": "code",
   "metadata": {},
   "source": [
    "## Non Voting mechanism\n",
    "# Define the threshold for non-voting\n",
    "non_voting_threshold = 10  # Threshold: percentage of maximum points below which voting is considered non-voting\n",
    "\n",
    "# Create the non-voting matrix\n",
    "non_voting_matrix = (voting_matrix_perc_of_max < non_voting_threshold).astype(int)\n",
    "\n",
    "# Reduce dimensions for visualization using PCA\n",
    "pca2 = PCA(n_components=2)  # Reducing to 2 dimensions for scatterplot\n",
    "non_voting_matrix_2d = pca2.fit_transform(non_voting_matrix)\n",
    "explained_variance2 = pca2.explained_variance_ratio_\n",
    "\n",
    "# Perform KMeans clustering with the specified number of clusters\n",
    "kmeans_non_voting = KMeans(n_clusters=n_clusters, random_state=42)\n",
    "clusters_non_voting = kmeans_non_voting.fit_predict(non_voting_matrix)\n",
    "shapes = generate_markers(n_clusters)\n",
    "\n",
    "# # Create a scatterplot for the normal voting clustering\n",
    "plt.figure(figsize=(12, 10))\n",
    "for cluster_id in range(n_clusters):  # Use the manually set number of clusters\n",
    "    cluster_indices = [i for i, c in enumerate(clusters_non_voting) if c == cluster_id]\n",
    "    plt.scatter(\n",
    "        non_voting_matrix_2d[cluster_indices, 0],\n",
    "        non_voting_matrix_2d[cluster_indices, 1],\n",
    "        label=f'Cluster {cluster_id}',\n",
    "        marker=shapes[cluster_id],  # Use dynamically generated marker\n",
    "        s=100,\n",
    "        alpha=0.8\n",
    "    )\n",
    "\n",
    "# Add annotations for country codes\n",
    "for i, country in enumerate(non_voting_matrix.index):\n",
    "    plt.annotate(country, (non_voting_matrix_2d[i, 0], non_voting_matrix_2d[i, 1]), fontsize=12, alpha=0.85)\n",
    "\n",
    "# Titles and labels\n",
    "plt.title(f'Country Clustering Based on Non-Voting Patterns (n_clusters={n_clusters})', fontsize=14)\n",
    "plt.xlabel(f\"PCA Component 1 explained variance {explained_variance2[0]:.2%}\", fontsize=12)\n",
    "plt.ylabel(f\"PCA Component 2 explained variance {explained_variance2[1]:.2%}\", fontsize=12)\n",
    "plt.legend(title='Cluster ID', fontsize=10, loc='upper right')\n",
    "plt.grid(False)  # Remove gridlines for clarity\n",
    "plt.tight_layout()\n",
    "plt.show()\n"
   ],
   "outputs": [],
   "execution_count": null
  },
  {
   "cell_type": "code",
   "execution_count": null,
   "metadata": {},
   "outputs": [],
   "source": [
    "place_count = contestant_df.groupby(['year', 'place_final'])[['to_country']].count().reset_index()\n",
    "place_count\n",
    "\n",
    "# Pivot the DataFrame to create a matrix for the heatmap\n",
    "heatmap_data = place_count.pivot(index='place_final', columns='year', values='to_country').sort_index(ascending=False)\n",
    "\n",
    "\n",
    "# Create the heatmap\n",
    "fig = go.Figure(data=go.Heatmap(\n",
    "    z=heatmap_data.values,\n",
    "    x=heatmap_data.columns,\n",
    "    y=heatmap_data.index,\n",
    "    colorscale='Viridis',  # Customize colorscale\n",
    "    colorbar=dict(title='number of ties')  # Colorbar label\n",
    "))\n",
    "\n",
    "# Customize layout\n",
    "fig.update_layout(\n",
    "    title='Plaeces over the Years',\n",
    "    xaxis=dict(title='Years'),\n",
    "    yaxis=dict(title='Places')\n",
    ")\n",
    "fig.update_yaxes(\n",
    "    autorange = 'reversed'\n",
    "\n",
    "\n",
    ")\n",
    "\n",
    "# Show the heatmap\n",
    "fig.show()"
   ]
  }
 ],
 "metadata": {
  "kernelspec": {
   "display_name": "Python 3",
   "language": "python",
   "name": "python3"
  },
  "language_info": {
   "codemirror_mode": {
    "name": "ipython",
    "version": 3
   },
   "file_extension": ".py",
   "mimetype": "text/x-python",
   "name": "python",
   "nbconvert_exporter": "python",
   "pygments_lexer": "ipython3",
   "version": "3.12.2"
  }
 },
 "nbformat": 4,
 "nbformat_minor": 4
}
